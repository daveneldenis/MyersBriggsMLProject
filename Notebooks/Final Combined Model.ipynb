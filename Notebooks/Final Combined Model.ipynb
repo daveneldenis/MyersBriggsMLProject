{
 "cells": [
  {
   "cell_type": "markdown",
   "metadata": {},
   "source": [
    "# Myers-Brigss ML Project:  Model"
   ]
  },
  {
   "cell_type": "markdown",
   "metadata": {},
   "source": [
    "## Data Preprocessing"
   ]
  },
  {
   "cell_type": "code",
   "execution_count": null,
   "metadata": {},
   "outputs": [],
   "source": [
    "import pandas as pd\n",
    "import numpy as np"
   ]
  },
  {
   "cell_type": "markdown",
   "metadata": {},
   "source": [
    "#### Pull from Database"
   ]
  },
  {
   "cell_type": "code",
   "execution_count": null,
   "metadata": {},
   "outputs": [],
   "source": []
  },
  {
   "cell_type": "markdown",
   "metadata": {},
   "source": [
    "#### Count the http"
   ]
  },
  {
   "cell_type": "code",
   "execution_count": null,
   "metadata": {},
   "outputs": [],
   "source": [
    "raw_df['http_count']=raw_df['posts'].apply(lambda x: x.count('http'))\n",
    "raw_df.head()"
   ]
  },
  {
   "cell_type": "markdown",
   "metadata": {},
   "source": [
    "#### Create a column without http string"
   ]
  },
  {
   "cell_type": "code",
   "execution_count": null,
   "metadata": {},
   "outputs": [],
   "source": [
    "# create a column without http sting\n",
    "p = \"(http.*?\\s)\"\n",
    "raw_df['no_url']=raw_df['posts'].replace(p,\" \",regex=True)\n",
    "raw_df.head()"
   ]
  },
  {
   "cell_type": "markdown",
   "metadata": {},
   "source": [
    "#### Create a column without ||| sting"
   ]
  },
  {
   "cell_type": "code",
   "execution_count": null,
   "metadata": {},
   "outputs": [],
   "source": [
    "p = \"(\\|\\|\\|)\"\n",
    "raw_df['text']=raw_df['no_url'].replace(p,\" \",regex=True)\n",
    "raw_df.head()"
   ]
  },
  {
   "cell_type": "markdown",
   "metadata": {},
   "source": [
    "## Features, Vectorizors"
   ]
  },
  {
   "cell_type": "code",
   "execution_count": null,
   "metadata": {},
   "outputs": [],
   "source": [
    "from sklearn.feature_extraction.text import TfidfVectorizer\n",
    "from sklearn.model_selection import train_test_split"
   ]
  },
  {
   "cell_type": "markdown",
   "metadata": {},
   "source": [
    "#### Setting up Vectorizer"
   ]
  },
  {
   "cell_type": "code",
   "execution_count": null,
   "metadata": {},
   "outputs": [],
   "source": [
    "vectorizer = TfidfVectorizer(\n",
    "    max_features=17000,\n",
    "    min_df=7,\n",
    "    max_df=0.8,\n",
    "    stop_words=\"english\",\n",
    "    ngram_range=(1,3),\n",
    ")"
   ]
  },
  {
   "cell_type": "code",
   "execution_count": null,
   "metadata": {},
   "outputs": [],
   "source": [
    "from sklearn.metrics import confusion_matrix\n",
    "from sklearn.metrics import accuracy_score\n",
    "from sklearn.metrics import classification_report"
   ]
  },
  {
   "cell_type": "markdown",
   "metadata": {},
   "source": [
    "## Model"
   ]
  },
  {
   "cell_type": "markdown",
   "metadata": {},
   "source": [
    "## Analysis Metrics"
   ]
  },
  {
   "cell_type": "code",
   "execution_count": null,
   "metadata": {},
   "outputs": [],
   "source": [
    "accEI = clf_EI.score(X_test_EI, y_test_EI)\n",
    "accNS = clf_NS.score(X_test_NS, y_test_NS)\n",
    "accTF = clf_TF.score(X_test_TF, y_test_TF)\n",
    "accJP = clf_JP.score(X_test_JP, y_test_JP)\n",
    "print(\"Accuracy of model at predicting MB types were: \\n EI:{accEI} \\n NS:{accNS} \\n TF: {accTF} \\n JP: {accJP}\".format(accEI=accEI, accNS=accNS, accTF=accTF, accJP=accJP ))"
   ]
  },
  {
   "cell_type": "markdown",
   "metadata": {},
   "source": [
    "#### E-I Model's Confusion Matrix, Classification Report:"
   ]
  },
  {
   "cell_type": "code",
   "execution_count": null,
   "metadata": {},
   "outputs": [],
   "source": [
    "print(\"E-I SVM Model\")\n",
    "print(\"Classification Report: \\n\")\n",
    "print(classification_report(clf_EI_pred.Actual, clf_EI_pred.Prediction))\n",
    "print(\"Confusion Matrix: \\n\")\n",
    "print(confusion_matrix(clf_EI_pred.Actual, clf_EI_pred.Prediction))"
   ]
  },
  {
   "cell_type": "markdown",
   "metadata": {},
   "source": [
    "#### N-S Model's Confusion Matrix, Classification Report:"
   ]
  },
  {
   "cell_type": "code",
   "execution_count": null,
   "metadata": {},
   "outputs": [],
   "source": [
    "print(\"N-S SVM Model\")\n",
    "print(\"Classification Report: \\n\")\n",
    "print(classification_report(clf_NS_pred.Actual, clf_NS_pred.Prediction))\n",
    "print(\"Confusion Matrix: \\n\")\n",
    "print(confusion_matrix(clf_NS_pred.Actual, clf_NS_pred.Prediction))"
   ]
  },
  {
   "cell_type": "markdown",
   "metadata": {},
   "source": [
    "#### T-F Model's Confusion Matrix, Classification Report:"
   ]
  },
  {
   "cell_type": "code",
   "execution_count": null,
   "metadata": {},
   "outputs": [],
   "source": [
    "print(\"T-F SVM Model\")\n",
    "print(\"Classification Report: \\n\")\n",
    "print(classification_report(clf_TF_pred.Actual, clf_TF_pred.Prediction))\n",
    "print(\"Confusion Matrix: \\n\")\n",
    "print(confusion_matrix(clf_TF_pred.Actual, clf_TF_pred.Prediction))"
   ]
  },
  {
   "cell_type": "markdown",
   "metadata": {},
   "source": [
    "#### J-P Model's Confusion Matrix, Classification Report:"
   ]
  },
  {
   "cell_type": "code",
   "execution_count": null,
   "metadata": {},
   "outputs": [],
   "source": [
    "print(\"J-P SVM Model\")\n",
    "print(\"Classification Report: \\n\")\n",
    "print(classification_report(clf_JP_pred.Actual, clf_JP_pred.Prediction))\n",
    "print(\"Confusion Matrix: \\n\")\n",
    "print(confusion_matrix(clf_JP_pred.Actual, clf_JP_pred.Prediction))"
   ]
  },
  {
   "cell_type": "markdown",
   "metadata": {},
   "source": [
    "#### Export to Database"
   ]
  },
  {
   "cell_type": "code",
   "execution_count": null,
   "metadata": {},
   "outputs": [],
   "source": []
  }
 ],
 "metadata": {
  "kernelspec": {
   "display_name": "PythonData",
   "language": "python",
   "name": "pythondata"
  },
  "language_info": {
   "codemirror_mode": {
    "name": "ipython",
    "version": 3
   },
   "file_extension": ".py",
   "mimetype": "text/x-python",
   "name": "python",
   "nbconvert_exporter": "python",
   "pygments_lexer": "ipython3",
   "version": "3.7.7"
  }
 },
 "nbformat": 4,
 "nbformat_minor": 4
}
