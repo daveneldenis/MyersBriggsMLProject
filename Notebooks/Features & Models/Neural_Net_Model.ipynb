{
 "cells": [
  {
   "cell_type": "markdown",
   "metadata": {},
   "source": [
    "# Myers Brigss ML Project: Neural Net Model"
   ]
  },
  {
   "cell_type": "markdown",
   "metadata": {},
   "source": [
    "### Imports & Dependencies"
   ]
  },
  {
   "cell_type": "code",
   "execution_count": 20,
   "metadata": {},
   "outputs": [],
   "source": [
    "import pandas as pd\n",
    "import numpy as np\n",
    "from sklearn.feature_extraction.text import TfidfVectorizer\n",
    "from sklearn.model_selection import train_test_split\n",
    "from sklearn.preprocessing import LabelEncoder\n",
    "import os \n",
    "import tensorflow as tf\n",
    "from tensorflow.keras.callbacks import ModelCheckpoint\n",
    "from tensorflow.keras.utils import to_categorical\n",
    "from scipy.sparse import csr_matrix "
   ]
  },
  {
   "cell_type": "code",
   "execution_count": 8,
   "metadata": {
    "scrolled": true
   },
   "outputs": [
    {
     "data": {
      "text/html": [
       "<div>\n",
       "<style scoped>\n",
       "    .dataframe tbody tr th:only-of-type {\n",
       "        vertical-align: middle;\n",
       "    }\n",
       "\n",
       "    .dataframe tbody tr th {\n",
       "        vertical-align: top;\n",
       "    }\n",
       "\n",
       "    .dataframe thead th {\n",
       "        text-align: right;\n",
       "    }\n",
       "</style>\n",
       "<table border=\"1\" class=\"dataframe\">\n",
       "  <thead>\n",
       "    <tr style=\"text-align: right;\">\n",
       "      <th></th>\n",
       "      <th>type</th>\n",
       "      <th>posts</th>\n",
       "      <th>http_count</th>\n",
       "      <th>no_url</th>\n",
       "      <th>text</th>\n",
       "    </tr>\n",
       "  </thead>\n",
       "  <tbody>\n",
       "    <tr>\n",
       "      <th>0</th>\n",
       "      <td>INFJ</td>\n",
       "      <td>'http://www.youtube.com/watch?v=qsXHcwe3krw|||...</td>\n",
       "      <td>24</td>\n",
       "      <td>' and intj moments    sportscenter not top ten...</td>\n",
       "      <td>and intj moments    sportscenter not top ten p...</td>\n",
       "    </tr>\n",
       "    <tr>\n",
       "      <th>1</th>\n",
       "      <td>ENTP</td>\n",
       "      <td>'I'm finding the lack of me in these posts ver...</td>\n",
       "      <td>10</td>\n",
       "      <td>'I'm finding the lack of me in these posts ver...</td>\n",
       "      <td>i m finding the lack of me in these posts very...</td>\n",
       "    </tr>\n",
       "    <tr>\n",
       "      <th>2</th>\n",
       "      <td>INTP</td>\n",
       "      <td>'Good one  _____   https://www.youtube.com/wat...</td>\n",
       "      <td>5</td>\n",
       "      <td>'Good one  _____    course, to which I say I k...</td>\n",
       "      <td>good one           course  to which i say i kn...</td>\n",
       "    </tr>\n",
       "    <tr>\n",
       "      <th>3</th>\n",
       "      <td>INTJ</td>\n",
       "      <td>'Dear INTP,   I enjoyed our conversation the o...</td>\n",
       "      <td>2</td>\n",
       "      <td>'Dear INTP,   I enjoyed our conversation the o...</td>\n",
       "      <td>dear intp    i enjoyed our conversation the ot...</td>\n",
       "    </tr>\n",
       "    <tr>\n",
       "      <th>4</th>\n",
       "      <td>ENTJ</td>\n",
       "      <td>'You're fired.|||That's another silly misconce...</td>\n",
       "      <td>6</td>\n",
       "      <td>'You're fired.|||That's another silly misconce...</td>\n",
       "      <td>you re fired  that s another silly misconcepti...</td>\n",
       "    </tr>\n",
       "  </tbody>\n",
       "</table>\n",
       "</div>"
      ],
      "text/plain": [
       "   type                                              posts  http_count  \\\n",
       "0  INFJ  'http://www.youtube.com/watch?v=qsXHcwe3krw|||...          24   \n",
       "1  ENTP  'I'm finding the lack of me in these posts ver...          10   \n",
       "2  INTP  'Good one  _____   https://www.youtube.com/wat...           5   \n",
       "3  INTJ  'Dear INTP,   I enjoyed our conversation the o...           2   \n",
       "4  ENTJ  'You're fired.|||That's another silly misconce...           6   \n",
       "\n",
       "                                              no_url  \\\n",
       "0  ' and intj moments    sportscenter not top ten...   \n",
       "1  'I'm finding the lack of me in these posts ver...   \n",
       "2  'Good one  _____    course, to which I say I k...   \n",
       "3  'Dear INTP,   I enjoyed our conversation the o...   \n",
       "4  'You're fired.|||That's another silly misconce...   \n",
       "\n",
       "                                                text  \n",
       "0  and intj moments    sportscenter not top ten p...  \n",
       "1  i m finding the lack of me in these posts very...  \n",
       "2  good one           course  to which i say i kn...  \n",
       "3  dear intp    i enjoyed our conversation the ot...  \n",
       "4  you re fired  that s another silly misconcepti...  "
      ]
     },
     "execution_count": 8,
     "metadata": {},
     "output_type": "execute_result"
    }
   ],
   "source": [
    "# import the cleaned df\n",
    "cleaned_df = pd.read_csv('../../Resources/data/cleaned_mbti.csv', index_col=0)\n",
    "cleaned_df.head()"
   ]
  },
  {
   "cell_type": "markdown",
   "metadata": {},
   "source": [
    "### TFIDF Vectorizer"
   ]
  },
  {
   "cell_type": "code",
   "execution_count": 24,
   "metadata": {},
   "outputs": [],
   "source": [
    "vectorizer = TfidfVectorizer(\n",
    "    max_features=17000,\n",
    "    min_df=7,\n",
    "    max_df=0.8,\n",
    "    stop_words=\"english\",\n",
    "    ngram_range=(1,3),\n",
    ")\n",
    "X = cleaned_df[\"text\"].values\n",
    "y = cleaned_df[\"type\"].values\n",
    "label_encoder = LabelEncoder()\n",
    "label_encoder.fit(y)\n",
    "y = label_encoder.transform(y)\n",
    "X_train, X_test, y_train, y_test = train_test_split(X, y, random_state=42)\n",
    "X_train = vectorizer.fit_transform(X_train)\n",
    "X_test = vectorizer.transform(X_test)\n",
    "X_train = csr_matrix.toarray(X_train)\n",
    "X_test = csr_matrix.toarray(X_test)"
   ]
  },
  {
   "cell_type": "code",
   "execution_count": 25,
   "metadata": {},
   "outputs": [],
   "source": [
    "# Encode\n",
    "y_train_categorical = to_categorical(y_train)\n",
    "y_test_categorical = to_categorical(y_test)"
   ]
  },
  {
   "cell_type": "markdown",
   "metadata": {},
   "source": [
    "### Model"
   ]
  },
  {
   "cell_type": "code",
   "execution_count": 17,
   "metadata": {},
   "outputs": [
    {
     "data": {
      "text/plain": [
       "<6506x1000 sparse matrix of type '<class 'numpy.float64'>'\n",
       "\twith 1269771 stored elements in Compressed Sparse Row format>"
      ]
     },
     "execution_count": 17,
     "metadata": {},
     "output_type": "execute_result"
    }
   ],
   "source": [
    "X_train"
   ]
  },
  {
   "cell_type": "code",
   "execution_count": 27,
   "metadata": {},
   "outputs": [
    {
     "name": "stdout",
     "output_type": "stream",
     "text": [
      "Train on 6506 samples\n",
      "Epoch 1/50\n",
      "6506/6506 [==============================] - 3s 478us/sample - loss: 2.4218 - accuracy: 0.2133\n",
      "Epoch 2/50\n",
      "6506/6506 [==============================] - 1s 223us/sample - loss: 1.9727 - accuracy: 0.3412\n",
      "Epoch 3/50\n",
      "6506/6506 [==============================] - 1s 225us/sample - loss: 1.5129 - accuracy: 0.5702\n",
      "Epoch 4/50\n",
      "6506/6506 [==============================] - 1s 229us/sample - loss: 1.0764 - accuracy: 0.6900\n",
      "Epoch 5/50\n",
      "6506/6506 [==============================] - 1s 222us/sample - loss: 0.7500 - accuracy: 0.8013\n",
      "Epoch 6/50\n",
      "6506/6506 [==============================] - 2s 232us/sample - loss: 0.5085 - accuracy: 0.8910\n",
      "Epoch 7/50\n",
      "6506/6506 [==============================] - 2s 257us/sample - loss: 0.3361 - accuracy: 0.9470\n",
      "Epoch 8/50\n",
      "6506/6506 [==============================] - 2s 255us/sample - loss: 0.2224 - accuracy: 0.9716\n",
      "Epoch 9/50\n",
      "6506/6506 [==============================] - 2s 251us/sample - loss: 0.1503 - accuracy: 0.9808\n",
      "Epoch 10/50\n",
      "6506/6506 [==============================] - 2s 245us/sample - loss: 0.1022 - accuracy: 0.9865\n",
      "Epoch 11/50\n",
      "6506/6506 [==============================] - 2s 248us/sample - loss: 0.0705 - accuracy: 0.9951\n",
      "Epoch 12/50\n",
      "6506/6506 [==============================] - 2s 245us/sample - loss: 0.0489 - accuracy: 0.9988\n",
      "Epoch 13/50\n",
      "6506/6506 [==============================] - 2s 249us/sample - loss: 0.0345 - accuracy: 0.9995\n",
      "Epoch 14/50\n",
      "6506/6506 [==============================] - 2s 269us/sample - loss: 0.0249 - accuracy: 0.9997\n",
      "Epoch 15/50\n",
      "6506/6506 [==============================] - 2s 263us/sample - loss: 0.0183 - accuracy: 0.9998\n",
      "Epoch 16/50\n",
      "6506/6506 [==============================] - 2s 255us/sample - loss: 0.0139 - accuracy: 0.9997\n",
      "Epoch 17/50\n",
      "6506/6506 [==============================] - 2s 244us/sample - loss: 0.0108 - accuracy: 0.9998\n",
      "Epoch 18/50\n",
      "6506/6506 [==============================] - 2s 244us/sample - loss: 0.0086 - accuracy: 0.9997\n",
      "Epoch 19/50\n",
      "6506/6506 [==============================] - 2s 260us/sample - loss: 0.0068 - accuracy: 1.0000\n",
      "Epoch 20/50\n",
      "6506/6506 [==============================] - 2s 249us/sample - loss: 0.0056 - accuracy: 1.0000\n",
      "Epoch 21/50\n",
      "6506/6506 [==============================] - 2s 248us/sample - loss: 0.0045 - accuracy: 1.0000\n",
      "Epoch 22/50\n",
      "6506/6506 [==============================] - 2s 247us/sample - loss: 0.0037 - accuracy: 1.0000\n",
      "Epoch 23/50\n",
      "6506/6506 [==============================] - 2s 248us/sample - loss: 0.0031 - accuracy: 1.0000\n",
      "Epoch 24/50\n",
      "6506/6506 [==============================] - 2s 251us/sample - loss: 0.0026 - accuracy: 1.0000\n",
      "Epoch 25/50\n",
      "6506/6506 [==============================] - 2s 245us/sample - loss: 0.0022 - accuracy: 1.0000\n",
      "Epoch 26/50\n",
      "6506/6506 [==============================] - 2s 243us/sample - loss: 0.0019 - accuracy: 1.0000\n",
      "Epoch 27/50\n",
      "6506/6506 [==============================] - 2s 243us/sample - loss: 0.0016 - accuracy: 1.0000\n",
      "Epoch 28/50\n",
      "6506/6506 [==============================] - 2s 247us/sample - loss: 0.0014 - accuracy: 1.0000\n",
      "Epoch 29/50\n",
      "6506/6506 [==============================] - 2s 259us/sample - loss: 0.0012 - accuracy: 1.0000\n",
      "Epoch 30/50\n",
      "6506/6506 [==============================] - 2s 244us/sample - loss: 0.0010 - accuracy: 1.0000\n",
      "Epoch 31/50\n",
      "6506/6506 [==============================] - 2s 241us/sample - loss: 8.6547e-04 - accuracy: 1.0000\n",
      "Epoch 32/50\n",
      "6506/6506 [==============================] - 2s 238us/sample - loss: 7.4703e-04 - accuracy: 1.0000\n",
      "Epoch 33/50\n",
      "6506/6506 [==============================] - 2s 248us/sample - loss: 6.4784e-04 - accuracy: 1.0000\n",
      "Epoch 34/50\n",
      "6506/6506 [==============================] - 2s 247us/sample - loss: 5.6531e-04 - accuracy: 1.0000\n",
      "Epoch 35/50\n",
      "6506/6506 [==============================] - 2s 253us/sample - loss: 4.9243e-04 - accuracy: 1.0000\n",
      "Epoch 36/50\n",
      "6506/6506 [==============================] - 2s 239us/sample - loss: 4.3055e-04 - accuracy: 1.0000\n",
      "Epoch 37/50\n",
      "6506/6506 [==============================] - 2s 243us/sample - loss: 3.7405e-04 - accuracy: 1.0000\n",
      "Epoch 38/50\n",
      "6506/6506 [==============================] - 2s 248us/sample - loss: 3.2880e-04 - accuracy: 1.0000\n",
      "Epoch 39/50\n",
      "6506/6506 [==============================] - 2s 237us/sample - loss: 2.8760e-04 - accuracy: 1.0000\n",
      "Epoch 40/50\n",
      "6506/6506 [==============================] - 1s 226us/sample - loss: 2.5370e-04 - accuracy: 1.0000\n",
      "Epoch 41/50\n",
      "6506/6506 [==============================] - 1s 227us/sample - loss: 2.2354e-04 - accuracy: 1.0000\n",
      "Epoch 42/50\n",
      "6506/6506 [==============================] - 1s 226us/sample - loss: 1.9601e-04 - accuracy: 1.0000\n",
      "Epoch 43/50\n",
      "6506/6506 [==============================] - 1s 226us/sample - loss: 1.7280e-04 - accuracy: 1.0000\n",
      "Epoch 44/50\n",
      "6506/6506 [==============================] - 1s 226us/sample - loss: 1.5241e-04 - accuracy: 1.0000\n",
      "Epoch 45/50\n",
      "6506/6506 [==============================] - 1s 227us/sample - loss: 1.3465e-04 - accuracy: 1.0000\n",
      "Epoch 46/50\n",
      "6506/6506 [==============================] - 2s 234us/sample - loss: 1.1869e-04 - accuracy: 1.0000\n",
      "Epoch 47/50\n",
      "6506/6506 [==============================] - 2s 233us/sample - loss: 1.0530e-04 - accuracy: 1.0000\n",
      "Epoch 48/50\n",
      "6506/6506 [==============================] - 1s 227us/sample - loss: 9.2609e-05 - accuracy: 1.0000\n",
      "Epoch 49/50\n",
      "6506/6506 [==============================] - 2s 248us/sample - loss: 8.2135e-05 - accuracy: 1.0000\n",
      "Epoch 50/50\n",
      "6506/6506 [==============================] - 2s 261us/sample - loss: 7.2750e-05 - accuracy: 1.0000\n",
      "2169/1 - 0s - loss: 5.5680 - accuracy: 0.5071\n",
      "Loss: 3.9197428647468255, Accuracy: 0.5071461796760559\n"
     ]
    }
   ],
   "source": [
    "# Define the model - deep neural net\n",
    "number_input_features = 17000\n",
    "hidden_nodes_layer1 =  24\n",
    "hidden_nodes_layer2 = 12\n",
    "\n",
    "nn = tf.keras.models.Sequential()\n",
    "\n",
    "# First hidden layer\n",
    "nn.add(\n",
    "    tf.keras.layers.Dense(units=hidden_nodes_layer1, input_dim=number_input_features, activation=\"relu\")\n",
    ")\n",
    "\n",
    "# Second hidden layer\n",
    "nn.add(tf.keras.layers.Dense(units=hidden_nodes_layer2, activation=\"relu\"))\n",
    "\n",
    "\n",
    "# Output layer\n",
    "nn.add(tf.keras.layers.Dense(units=16, activation=\"softmax\"))\n",
    "\n",
    "# Compile the Sequential model together and customize metrics\n",
    "nn.compile(loss=\"categorical_crossentropy\", optimizer=\"adam\", metrics=[\"accuracy\"])\n",
    "\n",
    "# Train the model\n",
    "fit_model = nn.fit(X_train, y_train_categorical, epochs=50)\n",
    "\n",
    "# Evaluate the model using the test data\n",
    "model_loss, model_accuracy = nn.evaluate(X_test,y_test_categorical,verbose=2)\n",
    "print(f\"Loss: {model_loss}, Accuracy: {model_accuracy}\")"
   ]
  },
  {
   "cell_type": "code",
   "execution_count": null,
   "metadata": {},
   "outputs": [],
   "source": []
  }
 ],
 "metadata": {
  "kernelspec": {
   "display_name": "PythonData",
   "language": "python",
   "name": "pythondata"
  },
  "language_info": {
   "codemirror_mode": {
    "name": "ipython",
    "version": 3
   },
   "file_extension": ".py",
   "mimetype": "text/x-python",
   "name": "python",
   "nbconvert_exporter": "python",
   "pygments_lexer": "ipython3",
   "version": "3.7.6"
  }
 },
 "nbformat": 4,
 "nbformat_minor": 4
}
