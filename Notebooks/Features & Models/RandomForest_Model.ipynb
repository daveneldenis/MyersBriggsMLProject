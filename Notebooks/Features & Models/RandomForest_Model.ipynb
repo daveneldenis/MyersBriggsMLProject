{
 "cells": [
  {
   "cell_type": "markdown",
   "metadata": {},
   "source": [
    "# Myers-Briggs ML Project: Random Forest Model"
   ]
  },
  {
   "cell_type": "markdown",
   "metadata": {},
   "source": [
    "### Imports & Dependencies"
   ]
  },
  {
   "cell_type": "code",
   "execution_count": 43,
   "metadata": {},
   "outputs": [],
   "source": [
    "import pandas as pd\n",
    "import numpy as np"
   ]
  },
  {
   "cell_type": "code",
   "execution_count": 44,
   "metadata": {
    "scrolled": true
   },
   "outputs": [
    {
     "data": {
      "text/html": [
       "<div>\n",
       "<style scoped>\n",
       "    .dataframe tbody tr th:only-of-type {\n",
       "        vertical-align: middle;\n",
       "    }\n",
       "\n",
       "    .dataframe tbody tr th {\n",
       "        vertical-align: top;\n",
       "    }\n",
       "\n",
       "    .dataframe thead th {\n",
       "        text-align: right;\n",
       "    }\n",
       "</style>\n",
       "<table border=\"1\" class=\"dataframe\">\n",
       "  <thead>\n",
       "    <tr style=\"text-align: right;\">\n",
       "      <th></th>\n",
       "      <th>type</th>\n",
       "      <th>posts</th>\n",
       "      <th>http_count</th>\n",
       "      <th>no_url</th>\n",
       "      <th>text</th>\n",
       "    </tr>\n",
       "  </thead>\n",
       "  <tbody>\n",
       "    <tr>\n",
       "      <th>0</th>\n",
       "      <td>INFJ</td>\n",
       "      <td>'http://www.youtube.com/watch?v=qsXHcwe3krw|||...</td>\n",
       "      <td>24</td>\n",
       "      <td>' and intj moments    sportscenter not top ten...</td>\n",
       "      <td>' and intj moments    sportscenter not top ten...</td>\n",
       "    </tr>\n",
       "    <tr>\n",
       "      <th>1</th>\n",
       "      <td>ENTP</td>\n",
       "      <td>'I'm finding the lack of me in these posts ver...</td>\n",
       "      <td>10</td>\n",
       "      <td>'I'm finding the lack of me in these posts ver...</td>\n",
       "      <td>'I'm finding the lack of me in these posts ver...</td>\n",
       "    </tr>\n",
       "    <tr>\n",
       "      <th>2</th>\n",
       "      <td>INTP</td>\n",
       "      <td>'Good one  _____   https://www.youtube.com/wat...</td>\n",
       "      <td>5</td>\n",
       "      <td>'Good one  _____    course, to which I say I k...</td>\n",
       "      <td>'Good one  _____    course, to which I say I k...</td>\n",
       "    </tr>\n",
       "    <tr>\n",
       "      <th>3</th>\n",
       "      <td>INTJ</td>\n",
       "      <td>'Dear INTP,   I enjoyed our conversation the o...</td>\n",
       "      <td>2</td>\n",
       "      <td>'Dear INTP,   I enjoyed our conversation the o...</td>\n",
       "      <td>'Dear INTP,   I enjoyed our conversation the o...</td>\n",
       "    </tr>\n",
       "    <tr>\n",
       "      <th>4</th>\n",
       "      <td>ENTJ</td>\n",
       "      <td>'You're fired.|||That's another silly misconce...</td>\n",
       "      <td>6</td>\n",
       "      <td>'You're fired.|||That's another silly misconce...</td>\n",
       "      <td>'You're fired. That's another silly misconcept...</td>\n",
       "    </tr>\n",
       "  </tbody>\n",
       "</table>\n",
       "</div>"
      ],
      "text/plain": [
       "   type                                              posts  http_count  \\\n",
       "0  INFJ  'http://www.youtube.com/watch?v=qsXHcwe3krw|||...          24   \n",
       "1  ENTP  'I'm finding the lack of me in these posts ver...          10   \n",
       "2  INTP  'Good one  _____   https://www.youtube.com/wat...           5   \n",
       "3  INTJ  'Dear INTP,   I enjoyed our conversation the o...           2   \n",
       "4  ENTJ  'You're fired.|||That's another silly misconce...           6   \n",
       "\n",
       "                                              no_url  \\\n",
       "0  ' and intj moments    sportscenter not top ten...   \n",
       "1  'I'm finding the lack of me in these posts ver...   \n",
       "2  'Good one  _____    course, to which I say I k...   \n",
       "3  'Dear INTP,   I enjoyed our conversation the o...   \n",
       "4  'You're fired.|||That's another silly misconce...   \n",
       "\n",
       "                                                text  \n",
       "0  ' and intj moments    sportscenter not top ten...  \n",
       "1  'I'm finding the lack of me in these posts ver...  \n",
       "2  'Good one  _____    course, to which I say I k...  \n",
       "3  'Dear INTP,   I enjoyed our conversation the o...  \n",
       "4  'You're fired. That's another silly misconcept...  "
      ]
     },
     "execution_count": 44,
     "metadata": {},
     "output_type": "execute_result"
    }
   ],
   "source": [
    "# import the cleaned df\n",
    "cleaned_df = pd.read_csv('../../Resources/data/cleaned_mbti.csv', index_col=0)\n",
    "cleaned_df.head()"
   ]
  },
  {
   "cell_type": "markdown",
   "metadata": {},
   "source": [
    "### Split type column to 4 combinations"
   ]
  },
  {
   "cell_type": "code",
   "execution_count": 45,
   "metadata": {},
   "outputs": [
    {
     "data": {
      "text/html": [
       "<div>\n",
       "<style scoped>\n",
       "    .dataframe tbody tr th:only-of-type {\n",
       "        vertical-align: middle;\n",
       "    }\n",
       "\n",
       "    .dataframe tbody tr th {\n",
       "        vertical-align: top;\n",
       "    }\n",
       "\n",
       "    .dataframe thead th {\n",
       "        text-align: right;\n",
       "    }\n",
       "</style>\n",
       "<table border=\"1\" class=\"dataframe\">\n",
       "  <thead>\n",
       "    <tr style=\"text-align: right;\">\n",
       "      <th></th>\n",
       "      <th>type</th>\n",
       "      <th>text</th>\n",
       "      <th>E-I</th>\n",
       "      <th>N-S</th>\n",
       "      <th>T-F</th>\n",
       "      <th>J-P</th>\n",
       "    </tr>\n",
       "  </thead>\n",
       "  <tbody>\n",
       "    <tr>\n",
       "      <th>0</th>\n",
       "      <td>INFJ</td>\n",
       "      <td>' and intj moments    sportscenter not top ten...</td>\n",
       "      <td>I</td>\n",
       "      <td>N</td>\n",
       "      <td>F</td>\n",
       "      <td>J</td>\n",
       "    </tr>\n",
       "    <tr>\n",
       "      <th>1</th>\n",
       "      <td>ENTP</td>\n",
       "      <td>'I'm finding the lack of me in these posts ver...</td>\n",
       "      <td>E</td>\n",
       "      <td>N</td>\n",
       "      <td>T</td>\n",
       "      <td>P</td>\n",
       "    </tr>\n",
       "    <tr>\n",
       "      <th>2</th>\n",
       "      <td>INTP</td>\n",
       "      <td>'Good one  _____    course, to which I say I k...</td>\n",
       "      <td>I</td>\n",
       "      <td>N</td>\n",
       "      <td>T</td>\n",
       "      <td>P</td>\n",
       "    </tr>\n",
       "    <tr>\n",
       "      <th>3</th>\n",
       "      <td>INTJ</td>\n",
       "      <td>'Dear INTP,   I enjoyed our conversation the o...</td>\n",
       "      <td>I</td>\n",
       "      <td>N</td>\n",
       "      <td>T</td>\n",
       "      <td>J</td>\n",
       "    </tr>\n",
       "    <tr>\n",
       "      <th>4</th>\n",
       "      <td>ENTJ</td>\n",
       "      <td>'You're fired. That's another silly misconcept...</td>\n",
       "      <td>E</td>\n",
       "      <td>N</td>\n",
       "      <td>T</td>\n",
       "      <td>J</td>\n",
       "    </tr>\n",
       "  </tbody>\n",
       "</table>\n",
       "</div>"
      ],
      "text/plain": [
       "   type                                               text E-I N-S T-F J-P\n",
       "0  INFJ  ' and intj moments    sportscenter not top ten...   I   N   F   J\n",
       "1  ENTP  'I'm finding the lack of me in these posts ver...   E   N   T   P\n",
       "2  INTP  'Good one  _____    course, to which I say I k...   I   N   T   P\n",
       "3  INTJ  'Dear INTP,   I enjoyed our conversation the o...   I   N   T   J\n",
       "4  ENTJ  'You're fired. That's another silly misconcept...   E   N   T   J"
      ]
     },
     "execution_count": 45,
     "metadata": {},
     "output_type": "execute_result"
    }
   ],
   "source": [
    "# Split types into four binary columns\n",
    "split_df = cleaned_df[['type','text']].copy()\n",
    "split_df['E-I'] = split_df['type'].str.extract('(.)[N,S]',1)\n",
    "split_df['N-S'] = split_df['type'].str.extract('[E,I](.)[F,T]',1)\n",
    "split_df['T-F'] = split_df['type'].str.extract('[N,S](.)[J,P]',1)\n",
    "split_df['J-P'] = split_df['type'].str.extract('[F,T](.)',1)\n",
    "split_df.head()"
   ]
  },
  {
   "cell_type": "code",
   "execution_count": 46,
   "metadata": {},
   "outputs": [
    {
     "data": {
      "text/html": [
       "<div>\n",
       "<style scoped>\n",
       "    .dataframe tbody tr th:only-of-type {\n",
       "        vertical-align: middle;\n",
       "    }\n",
       "\n",
       "    .dataframe tbody tr th {\n",
       "        vertical-align: top;\n",
       "    }\n",
       "\n",
       "    .dataframe thead th {\n",
       "        text-align: right;\n",
       "    }\n",
       "</style>\n",
       "<table border=\"1\" class=\"dataframe\">\n",
       "  <thead>\n",
       "    <tr style=\"text-align: right;\">\n",
       "      <th></th>\n",
       "      <th>type</th>\n",
       "      <th>text</th>\n",
       "      <th>E0-I1</th>\n",
       "      <th>N0-S1</th>\n",
       "      <th>F0-T1</th>\n",
       "      <th>J0-P1</th>\n",
       "    </tr>\n",
       "  </thead>\n",
       "  <tbody>\n",
       "    <tr>\n",
       "      <th>0</th>\n",
       "      <td>INFJ</td>\n",
       "      <td>' and intj moments    sportscenter not top ten...</td>\n",
       "      <td>1</td>\n",
       "      <td>0</td>\n",
       "      <td>0</td>\n",
       "      <td>0</td>\n",
       "    </tr>\n",
       "    <tr>\n",
       "      <th>1</th>\n",
       "      <td>ENTP</td>\n",
       "      <td>'I'm finding the lack of me in these posts ver...</td>\n",
       "      <td>0</td>\n",
       "      <td>0</td>\n",
       "      <td>1</td>\n",
       "      <td>1</td>\n",
       "    </tr>\n",
       "    <tr>\n",
       "      <th>2</th>\n",
       "      <td>INTP</td>\n",
       "      <td>'Good one  _____    course, to which I say I k...</td>\n",
       "      <td>1</td>\n",
       "      <td>0</td>\n",
       "      <td>1</td>\n",
       "      <td>1</td>\n",
       "    </tr>\n",
       "    <tr>\n",
       "      <th>3</th>\n",
       "      <td>INTJ</td>\n",
       "      <td>'Dear INTP,   I enjoyed our conversation the o...</td>\n",
       "      <td>1</td>\n",
       "      <td>0</td>\n",
       "      <td>1</td>\n",
       "      <td>0</td>\n",
       "    </tr>\n",
       "    <tr>\n",
       "      <th>4</th>\n",
       "      <td>ENTJ</td>\n",
       "      <td>'You're fired. That's another silly misconcept...</td>\n",
       "      <td>0</td>\n",
       "      <td>0</td>\n",
       "      <td>1</td>\n",
       "      <td>0</td>\n",
       "    </tr>\n",
       "  </tbody>\n",
       "</table>\n",
       "</div>"
      ],
      "text/plain": [
       "   type                                               text  E0-I1  N0-S1  \\\n",
       "0  INFJ  ' and intj moments    sportscenter not top ten...      1      0   \n",
       "1  ENTP  'I'm finding the lack of me in these posts ver...      0      0   \n",
       "2  INTP  'Good one  _____    course, to which I say I k...      1      0   \n",
       "3  INTJ  'Dear INTP,   I enjoyed our conversation the o...      1      0   \n",
       "4  ENTJ  'You're fired. That's another silly misconcept...      0      0   \n",
       "\n",
       "   F0-T1  J0-P1  \n",
       "0      0      0  \n",
       "1      1      1  \n",
       "2      1      1  \n",
       "3      1      0  \n",
       "4      1      0  "
      ]
     },
     "execution_count": 46,
     "metadata": {},
     "output_type": "execute_result"
    }
   ],
   "source": [
    "# Encode letters to numeric values\n",
    "from sklearn.preprocessing import LabelEncoder\n",
    "le = LabelEncoder()\n",
    "\n",
    "encoded_df = cleaned_df[['type','text']].copy()\n",
    "encoded_df['E0-I1'] = le.fit_transform(split_df['E-I'])\n",
    "encoded_df['N0-S1'] = le.fit_transform(split_df['N-S'])\n",
    "encoded_df['F0-T1'] = le.fit_transform(split_df['T-F'])\n",
    "encoded_df['J0-P1'] = le.fit_transform(split_df['J-P'])\n",
    "\n",
    "encoded_df.head()"
   ]
  },
  {
   "cell_type": "code",
   "execution_count": 47,
   "metadata": {},
   "outputs": [
    {
     "data": {
      "text/plain": [
       "Index(['type', 'text', 'E0-I1', 'N0-S1', 'F0-T1', 'J0-P1'], dtype='object')"
      ]
     },
     "execution_count": 47,
     "metadata": {},
     "output_type": "execute_result"
    }
   ],
   "source": [
    "encoded_df.columns"
   ]
  },
  {
   "cell_type": "markdown",
   "metadata": {},
   "source": [
    "### TFIDF Vectorizer"
   ]
  },
  {
   "cell_type": "code",
   "execution_count": 48,
   "metadata": {},
   "outputs": [],
   "source": [
    "from sklearn.feature_extraction.text import TfidfVectorizer\n",
    "from sklearn.model_selection import train_test_split"
   ]
  },
  {
   "cell_type": "code",
   "execution_count": 49,
   "metadata": {},
   "outputs": [],
   "source": [
    "vectorizer = TfidfVectorizer(\n",
    "    max_features=17000,\n",
    "    min_df=7,\n",
    "    max_df=0.8,\n",
    "    stop_words=None,\n",
    "    ngram_range=(1,3),\n",
    ")\n",
    "\n",
    "X = cleaned_df[\"text\"].values\n",
    "y_all = encoded_df.drop(columns=['type', 'text'])\n",
    "X_train, X_test, y_all_train, y_all_test = train_test_split(X, y_all, random_state=0)\n",
    "X_train = vectorizer.fit_transform(X_train)\n",
    "X_test = vectorizer.transform(X_test)"
   ]
  },
  {
   "cell_type": "markdown",
   "metadata": {},
   "source": [
    "### Random Forest Model"
   ]
  },
  {
   "cell_type": "code",
   "execution_count": null,
   "metadata": {},
   "outputs": [],
   "source": [
    "from sklearn.ensemble import RandomForestClassifier\n",
    "classifier = RandomForestRegressor(n_estimators=1000, random_state=0)"
   ]
  },
  {
   "cell_type": "markdown",
   "metadata": {},
   "source": [
    "### Extraversion-Introversion (E-I)"
   ]
  },
  {
   "cell_type": "code",
   "execution_count": null,
   "metadata": {},
   "outputs": [],
   "source": [
    "# Fit E-I combination\n",
    "y_EI_train = y_all_train['E0-I1']\n",
    "y_EI_test = y_all_test['E0-I1']\n",
    "\n",
    "classifier.fit(X_train, y_EI_train)"
   ]
  },
  {
   "cell_type": "code",
   "execution_count": null,
   "metadata": {},
   "outputs": [],
   "source": [
    "# Predict outcomes for test data set\n",
    "y_EI_pred = classifier.predict(X_test)\n",
    "EI_result = pd.DataFrame({\"Prediction\": y_EI_pred, \"Actual\": y_EI_test})\n",
    "EI_result.head()"
   ]
  },
  {
   "cell_type": "markdown",
   "metadata": {},
   "source": [
    "### Intuition-Sensing (N-S)"
   ]
  },
  {
   "cell_type": "code",
   "execution_count": null,
   "metadata": {},
   "outputs": [],
   "source": [
    "# Fit N-S combination\n",
    "y_NS_train = y_all_train['N0-S1']\n",
    "y_NS_test = y_all_test['N0-S1']\n",
    "\n",
    "classifier.fit(X_train, y_NS_train)"
   ]
  },
  {
   "cell_type": "code",
   "execution_count": null,
   "metadata": {},
   "outputs": [],
   "source": [
    "# Predict outcomes for test data set\n",
    "y_NS_pred = classifier.predict(X_test)\n",
    "NS_result = pd.DataFrame({\"Prediction\": y_NS_pred, \"Actual\": y_NS_test})\n",
    "NS_result.head()"
   ]
  },
  {
   "cell_type": "markdown",
   "metadata": {},
   "source": [
    "### Feeling-Thinking (F-T)"
   ]
  },
  {
   "cell_type": "code",
   "execution_count": null,
   "metadata": {},
   "outputs": [],
   "source": [
    "# Fit F-T combination\n",
    "y_FT_train = y_all_train['F0-T1']\n",
    "y_FT_test = y_all_test['F0-T1']\n",
    "\n",
    "classifier.fit(X_train, y_FT_train)"
   ]
  },
  {
   "cell_type": "code",
   "execution_count": null,
   "metadata": {},
   "outputs": [],
   "source": [
    "# Predict outcomes for test data set\n",
    "y_FT_pred = classifier.predict(X_test)\n",
    "FT_result = pd.DataFrame({\"Prediction\": y_FT_pred, \"Actual\": y_FT_test})\n",
    "FT_result.head()"
   ]
  },
  {
   "cell_type": "markdown",
   "metadata": {},
   "source": [
    "### Judging-Perception (J-P)"
   ]
  },
  {
   "cell_type": "code",
   "execution_count": null,
   "metadata": {},
   "outputs": [],
   "source": [
    "# Fit J-P combination\n",
    "y_JP_train = y_all_train['J0-P1']\n",
    "y_JP_test = y_all_test['J0-P1']\n",
    "\n",
    "classifier.fit(X_train, y_JP_train)"
   ]
  },
  {
   "cell_type": "code",
   "execution_count": null,
   "metadata": {},
   "outputs": [],
   "source": [
    "# Predict outcomes for test data set\n",
    "y_JP_pred = classifier.predict(X_test)\n",
    "JP_result = pd.DataFrame({\"Prediction\": y_JP_pred, \"Actual\": y_JP_test})\n",
    "JP_result.head()"
   ]
  },
  {
   "cell_type": "markdown",
   "metadata": {},
   "source": [
    "### Model Validation"
   ]
  },
  {
   "cell_type": "code",
   "execution_count": null,
   "metadata": {},
   "outputs": [],
   "source": [
    "# Calculate accuracy score for each group\n",
    "from sklearn.metrics import accuracy_score\n",
    "print(f\" Random Forest model accuracy for E-I: {accuracy_score(y_EI_test, y_EI_pred):.3f}\")\n",
    "print(f\" Random Forest model accuracy for N-S: {accuracy_score(y_NS_test, y_NS_pred):.3f}\")\n",
    "print(f\" Random Forest model accuracy for F-T: {accuracy_score(y_FT_test, y_FT_pred):.3f}\")\n",
    "print(f\" Random Forest model accuracy for J-P: {accuracy_score(y_JP_test, y_JP_pred):.3f}\")"
   ]
  },
  {
   "cell_type": "code",
   "execution_count": null,
   "metadata": {},
   "outputs": [],
   "source": [
    "# Display classification report\n",
    "from sklearn.metrics import confusion_matrix, classification_report\n",
    "\n",
    "report_EI = classification_report(y_EI_test, y_EI_pred)\n",
    "print(f\"Classification report for E0-I1 group:\")\n",
    "print(report_EI)\n",
    "print(\"--------------------------\")\n",
    "\n",
    "report_NS = classification_report(y_NS_test, y_NS_pred)\n",
    "print(f\"Classification report for N0-S1 group:\")\n",
    "print(report_NS)\n",
    "print(\"--------------------------\")\n",
    "\n",
    "report_FT = classification_report(y_FT_test, y_FT_pred)\n",
    "print(f\"Classification report for F0-T1 group:\")\n",
    "print(report_FT)\n",
    "print(\"--------------------------\")\n",
    "\n",
    "report_JP = classification_report(y_JP_test, y_JP_pred)\n",
    "print(f\"Classification report for J0-P1 group:\")\n",
    "print(report_JP)"
   ]
  }
 ],
 "metadata": {
  "kernelspec": {
   "display_name": "PythonData",
   "language": "python",
   "name": "pythondata"
  },
  "language_info": {
   "codemirror_mode": {
    "name": "ipython",
    "version": 3
   },
   "file_extension": ".py",
   "mimetype": "text/x-python",
   "name": "python",
   "nbconvert_exporter": "python",
   "pygments_lexer": "ipython3",
   "version": "3.7.7"
  }
 },
 "nbformat": 4,
 "nbformat_minor": 4
}
