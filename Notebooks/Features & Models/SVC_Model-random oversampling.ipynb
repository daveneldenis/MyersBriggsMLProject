{
 "cells": [
  {
   "cell_type": "markdown",
   "metadata": {},
   "source": [
    "# Myers Brigss ML Project: SVM Model"
   ]
  },
  {
   "cell_type": "markdown",
   "metadata": {},
   "source": [
    "### Imports & Dependencies"
   ]
  },
  {
   "cell_type": "code",
   "execution_count": 1,
   "metadata": {},
   "outputs": [],
   "source": [
    "import pandas as pd\n",
    "import numpy as np\n",
    "import os\n",
    "import re"
   ]
  },
  {
   "cell_type": "code",
   "execution_count": 2,
   "metadata": {
    "scrolled": true
   },
   "outputs": [
    {
     "data": {
      "text/html": [
       "<div>\n",
       "<style scoped>\n",
       "    .dataframe tbody tr th:only-of-type {\n",
       "        vertical-align: middle;\n",
       "    }\n",
       "\n",
       "    .dataframe tbody tr th {\n",
       "        vertical-align: top;\n",
       "    }\n",
       "\n",
       "    .dataframe thead th {\n",
       "        text-align: right;\n",
       "    }\n",
       "</style>\n",
       "<table border=\"1\" class=\"dataframe\">\n",
       "  <thead>\n",
       "    <tr style=\"text-align: right;\">\n",
       "      <th></th>\n",
       "      <th>type</th>\n",
       "      <th>text</th>\n",
       "    </tr>\n",
       "  </thead>\n",
       "  <tbody>\n",
       "    <tr>\n",
       "      <th>0</th>\n",
       "      <td>INFJ</td>\n",
       "      <td>and intj moments    sportscenter not top ten...</td>\n",
       "    </tr>\n",
       "    <tr>\n",
       "      <th>1</th>\n",
       "      <td>ENTP</td>\n",
       "      <td>i m finding the lack of me in these posts ver...</td>\n",
       "    </tr>\n",
       "    <tr>\n",
       "      <th>2</th>\n",
       "      <td>INTP</td>\n",
       "      <td>good one           course  to which i say i k...</td>\n",
       "    </tr>\n",
       "    <tr>\n",
       "      <th>3</th>\n",
       "      <td>INTJ</td>\n",
       "      <td>dear intp    i enjoyed our conversation the o...</td>\n",
       "    </tr>\n",
       "    <tr>\n",
       "      <th>4</th>\n",
       "      <td>ENTJ</td>\n",
       "      <td>you re fired  that s another silly misconcept...</td>\n",
       "    </tr>\n",
       "  </tbody>\n",
       "</table>\n",
       "</div>"
      ],
      "text/plain": [
       "   type                                               text\n",
       "0  INFJ    and intj moments    sportscenter not top ten...\n",
       "1  ENTP   i m finding the lack of me in these posts ver...\n",
       "2  INTP   good one           course  to which i say i k...\n",
       "3  INTJ   dear intp    i enjoyed our conversation the o...\n",
       "4  ENTJ   you re fired  that s another silly misconcept..."
      ]
     },
     "execution_count": 2,
     "metadata": {},
     "output_type": "execute_result"
    }
   ],
   "source": [
    "# import the cleaned df\n",
    "cleaned_df = pd.read_csv('../../Resources/data/cleaned_mbti.csv', index_col=0)\n",
    "cleaned_df.head()"
   ]
  },
  {
   "cell_type": "markdown",
   "metadata": {},
   "source": [
    "### Split into 4 dataframes for each boolean dimension"
   ]
  },
  {
   "cell_type": "code",
   "execution_count": 3,
   "metadata": {},
   "outputs": [],
   "source": [
    "from sklearn.preprocessing import LabelEncoder\n",
    "le = LabelEncoder()"
   ]
  },
  {
   "cell_type": "code",
   "execution_count": 4,
   "metadata": {},
   "outputs": [
    {
     "data": {
      "text/html": [
       "<div>\n",
       "<style scoped>\n",
       "    .dataframe tbody tr th:only-of-type {\n",
       "        vertical-align: middle;\n",
       "    }\n",
       "\n",
       "    .dataframe tbody tr th {\n",
       "        vertical-align: top;\n",
       "    }\n",
       "\n",
       "    .dataframe thead th {\n",
       "        text-align: right;\n",
       "    }\n",
       "</style>\n",
       "<table border=\"1\" class=\"dataframe\">\n",
       "  <thead>\n",
       "    <tr style=\"text-align: right;\">\n",
       "      <th></th>\n",
       "      <th>Encoded</th>\n",
       "      <th>E-I</th>\n",
       "      <th>type</th>\n",
       "      <th>text</th>\n",
       "    </tr>\n",
       "  </thead>\n",
       "  <tbody>\n",
       "    <tr>\n",
       "      <th>0</th>\n",
       "      <td>1</td>\n",
       "      <td>I</td>\n",
       "      <td>INFJ</td>\n",
       "      <td>and intj moments    sportscenter not top ten...</td>\n",
       "    </tr>\n",
       "    <tr>\n",
       "      <th>1</th>\n",
       "      <td>0</td>\n",
       "      <td>E</td>\n",
       "      <td>ENTP</td>\n",
       "      <td>i m finding the lack of me in these posts ver...</td>\n",
       "    </tr>\n",
       "    <tr>\n",
       "      <th>2</th>\n",
       "      <td>1</td>\n",
       "      <td>I</td>\n",
       "      <td>INTP</td>\n",
       "      <td>good one           course  to which i say i k...</td>\n",
       "    </tr>\n",
       "    <tr>\n",
       "      <th>3</th>\n",
       "      <td>1</td>\n",
       "      <td>I</td>\n",
       "      <td>INTJ</td>\n",
       "      <td>dear intp    i enjoyed our conversation the o...</td>\n",
       "    </tr>\n",
       "    <tr>\n",
       "      <th>4</th>\n",
       "      <td>0</td>\n",
       "      <td>E</td>\n",
       "      <td>ENTJ</td>\n",
       "      <td>you re fired  that s another silly misconcept...</td>\n",
       "    </tr>\n",
       "  </tbody>\n",
       "</table>\n",
       "</div>"
      ],
      "text/plain": [
       "   Encoded E-I  type                                               text\n",
       "0        1   I  INFJ    and intj moments    sportscenter not top ten...\n",
       "1        0   E  ENTP   i m finding the lack of me in these posts ver...\n",
       "2        1   I  INTP   good one           course  to which i say i k...\n",
       "3        1   I  INTJ   dear intp    i enjoyed our conversation the o...\n",
       "4        0   E  ENTJ   you re fired  that s another silly misconcept..."
      ]
     },
     "execution_count": 4,
     "metadata": {},
     "output_type": "execute_result"
    }
   ],
   "source": [
    "E_I_df = cleaned_df.copy()\n",
    "E_I_df['E-I'] = cleaned_df[\"type\"].str.extract('(.)[N,S]',1)\n",
    "E_I_df['Encoded'] = le.fit_transform(E_I_df['E-I'])\n",
    "E_I_df = E_I_df[['Encoded', 'E-I', 'type', 'text']]\n",
    "E_I_df.head()"
   ]
  },
  {
   "cell_type": "code",
   "execution_count": 5,
   "metadata": {},
   "outputs": [
    {
     "data": {
      "text/html": [
       "<div>\n",
       "<style scoped>\n",
       "    .dataframe tbody tr th:only-of-type {\n",
       "        vertical-align: middle;\n",
       "    }\n",
       "\n",
       "    .dataframe tbody tr th {\n",
       "        vertical-align: top;\n",
       "    }\n",
       "\n",
       "    .dataframe thead th {\n",
       "        text-align: right;\n",
       "    }\n",
       "</style>\n",
       "<table border=\"1\" class=\"dataframe\">\n",
       "  <thead>\n",
       "    <tr style=\"text-align: right;\">\n",
       "      <th></th>\n",
       "      <th>Encoded</th>\n",
       "      <th>N-S</th>\n",
       "      <th>type</th>\n",
       "      <th>text</th>\n",
       "    </tr>\n",
       "  </thead>\n",
       "  <tbody>\n",
       "    <tr>\n",
       "      <th>0</th>\n",
       "      <td>0</td>\n",
       "      <td>N</td>\n",
       "      <td>INFJ</td>\n",
       "      <td>and intj moments    sportscenter not top ten...</td>\n",
       "    </tr>\n",
       "    <tr>\n",
       "      <th>1</th>\n",
       "      <td>0</td>\n",
       "      <td>N</td>\n",
       "      <td>ENTP</td>\n",
       "      <td>i m finding the lack of me in these posts ver...</td>\n",
       "    </tr>\n",
       "    <tr>\n",
       "      <th>2</th>\n",
       "      <td>0</td>\n",
       "      <td>N</td>\n",
       "      <td>INTP</td>\n",
       "      <td>good one           course  to which i say i k...</td>\n",
       "    </tr>\n",
       "    <tr>\n",
       "      <th>3</th>\n",
       "      <td>0</td>\n",
       "      <td>N</td>\n",
       "      <td>INTJ</td>\n",
       "      <td>dear intp    i enjoyed our conversation the o...</td>\n",
       "    </tr>\n",
       "    <tr>\n",
       "      <th>4</th>\n",
       "      <td>0</td>\n",
       "      <td>N</td>\n",
       "      <td>ENTJ</td>\n",
       "      <td>you re fired  that s another silly misconcept...</td>\n",
       "    </tr>\n",
       "  </tbody>\n",
       "</table>\n",
       "</div>"
      ],
      "text/plain": [
       "   Encoded N-S  type                                               text\n",
       "0        0   N  INFJ    and intj moments    sportscenter not top ten...\n",
       "1        0   N  ENTP   i m finding the lack of me in these posts ver...\n",
       "2        0   N  INTP   good one           course  to which i say i k...\n",
       "3        0   N  INTJ   dear intp    i enjoyed our conversation the o...\n",
       "4        0   N  ENTJ   you re fired  that s another silly misconcept..."
      ]
     },
     "execution_count": 5,
     "metadata": {},
     "output_type": "execute_result"
    }
   ],
   "source": [
    "N_S_df = cleaned_df.copy()\n",
    "N_S_df['N-S'] = cleaned_df[\"type\"].str.extract('[E,I](.)[F,T]',1)\n",
    "N_S_df['Encoded'] = le.fit_transform(N_S_df['N-S'])\n",
    "N_S_df = N_S_df[['Encoded', 'N-S', 'type', 'text']]\n",
    "N_S_df.head()"
   ]
  },
  {
   "cell_type": "code",
   "execution_count": 6,
   "metadata": {},
   "outputs": [
    {
     "data": {
      "text/html": [
       "<div>\n",
       "<style scoped>\n",
       "    .dataframe tbody tr th:only-of-type {\n",
       "        vertical-align: middle;\n",
       "    }\n",
       "\n",
       "    .dataframe tbody tr th {\n",
       "        vertical-align: top;\n",
       "    }\n",
       "\n",
       "    .dataframe thead th {\n",
       "        text-align: right;\n",
       "    }\n",
       "</style>\n",
       "<table border=\"1\" class=\"dataframe\">\n",
       "  <thead>\n",
       "    <tr style=\"text-align: right;\">\n",
       "      <th></th>\n",
       "      <th>Encoded</th>\n",
       "      <th>T-F</th>\n",
       "      <th>type</th>\n",
       "      <th>text</th>\n",
       "    </tr>\n",
       "  </thead>\n",
       "  <tbody>\n",
       "    <tr>\n",
       "      <th>0</th>\n",
       "      <td>0</td>\n",
       "      <td>F</td>\n",
       "      <td>INFJ</td>\n",
       "      <td>and intj moments    sportscenter not top ten...</td>\n",
       "    </tr>\n",
       "    <tr>\n",
       "      <th>1</th>\n",
       "      <td>1</td>\n",
       "      <td>T</td>\n",
       "      <td>ENTP</td>\n",
       "      <td>i m finding the lack of me in these posts ver...</td>\n",
       "    </tr>\n",
       "    <tr>\n",
       "      <th>2</th>\n",
       "      <td>1</td>\n",
       "      <td>T</td>\n",
       "      <td>INTP</td>\n",
       "      <td>good one           course  to which i say i k...</td>\n",
       "    </tr>\n",
       "    <tr>\n",
       "      <th>3</th>\n",
       "      <td>1</td>\n",
       "      <td>T</td>\n",
       "      <td>INTJ</td>\n",
       "      <td>dear intp    i enjoyed our conversation the o...</td>\n",
       "    </tr>\n",
       "    <tr>\n",
       "      <th>4</th>\n",
       "      <td>1</td>\n",
       "      <td>T</td>\n",
       "      <td>ENTJ</td>\n",
       "      <td>you re fired  that s another silly misconcept...</td>\n",
       "    </tr>\n",
       "  </tbody>\n",
       "</table>\n",
       "</div>"
      ],
      "text/plain": [
       "   Encoded T-F  type                                               text\n",
       "0        0   F  INFJ    and intj moments    sportscenter not top ten...\n",
       "1        1   T  ENTP   i m finding the lack of me in these posts ver...\n",
       "2        1   T  INTP   good one           course  to which i say i k...\n",
       "3        1   T  INTJ   dear intp    i enjoyed our conversation the o...\n",
       "4        1   T  ENTJ   you re fired  that s another silly misconcept..."
      ]
     },
     "execution_count": 6,
     "metadata": {},
     "output_type": "execute_result"
    }
   ],
   "source": [
    "T_F_df = cleaned_df.copy()\n",
    "T_F_df['T-F'] = cleaned_df[\"type\"].str.extract('[N,S](.)[J,P]',1)\n",
    "T_F_df['Encoded'] = le.fit_transform(T_F_df['T-F'])\n",
    "T_F_df = T_F_df[['Encoded', 'T-F', 'type', 'text']]\n",
    "T_F_df.head()"
   ]
  },
  {
   "cell_type": "code",
   "execution_count": 7,
   "metadata": {},
   "outputs": [
    {
     "data": {
      "text/html": [
       "<div>\n",
       "<style scoped>\n",
       "    .dataframe tbody tr th:only-of-type {\n",
       "        vertical-align: middle;\n",
       "    }\n",
       "\n",
       "    .dataframe tbody tr th {\n",
       "        vertical-align: top;\n",
       "    }\n",
       "\n",
       "    .dataframe thead th {\n",
       "        text-align: right;\n",
       "    }\n",
       "</style>\n",
       "<table border=\"1\" class=\"dataframe\">\n",
       "  <thead>\n",
       "    <tr style=\"text-align: right;\">\n",
       "      <th></th>\n",
       "      <th>Encoded</th>\n",
       "      <th>J-P</th>\n",
       "      <th>type</th>\n",
       "      <th>text</th>\n",
       "    </tr>\n",
       "  </thead>\n",
       "  <tbody>\n",
       "    <tr>\n",
       "      <th>0</th>\n",
       "      <td>0</td>\n",
       "      <td>J</td>\n",
       "      <td>INFJ</td>\n",
       "      <td>and intj moments    sportscenter not top ten...</td>\n",
       "    </tr>\n",
       "    <tr>\n",
       "      <th>1</th>\n",
       "      <td>1</td>\n",
       "      <td>P</td>\n",
       "      <td>ENTP</td>\n",
       "      <td>i m finding the lack of me in these posts ver...</td>\n",
       "    </tr>\n",
       "    <tr>\n",
       "      <th>2</th>\n",
       "      <td>1</td>\n",
       "      <td>P</td>\n",
       "      <td>INTP</td>\n",
       "      <td>good one           course  to which i say i k...</td>\n",
       "    </tr>\n",
       "    <tr>\n",
       "      <th>3</th>\n",
       "      <td>0</td>\n",
       "      <td>J</td>\n",
       "      <td>INTJ</td>\n",
       "      <td>dear intp    i enjoyed our conversation the o...</td>\n",
       "    </tr>\n",
       "    <tr>\n",
       "      <th>4</th>\n",
       "      <td>0</td>\n",
       "      <td>J</td>\n",
       "      <td>ENTJ</td>\n",
       "      <td>you re fired  that s another silly misconcept...</td>\n",
       "    </tr>\n",
       "  </tbody>\n",
       "</table>\n",
       "</div>"
      ],
      "text/plain": [
       "   Encoded J-P  type                                               text\n",
       "0        0   J  INFJ    and intj moments    sportscenter not top ten...\n",
       "1        1   P  ENTP   i m finding the lack of me in these posts ver...\n",
       "2        1   P  INTP   good one           course  to which i say i k...\n",
       "3        0   J  INTJ   dear intp    i enjoyed our conversation the o...\n",
       "4        0   J  ENTJ   you re fired  that s another silly misconcept..."
      ]
     },
     "execution_count": 7,
     "metadata": {},
     "output_type": "execute_result"
    }
   ],
   "source": [
    "J_P_df = cleaned_df.copy()\n",
    "J_P_df['J-P'] = cleaned_df[\"type\"].str.extract('[F,T](.)',1)\n",
    "J_P_df['Encoded'] = le.fit_transform(J_P_df['J-P'])\n",
    "J_P_df = J_P_df[['Encoded', 'J-P', 'type','text']]\n",
    "J_P_df.head()"
   ]
  },
  {
   "cell_type": "markdown",
   "metadata": {},
   "source": [
    "### TFIDF Vectorizer for 4 dimensions"
   ]
  },
  {
   "cell_type": "code",
   "execution_count": 8,
   "metadata": {},
   "outputs": [
    {
     "name": "stderr",
     "output_type": "stream",
     "text": [
      "C:\\Users\\jjin9\\anaconda3\\envs\\PythonData\\lib\\site-packages\\sklearn\\feature_extraction\\text.py:17: DeprecationWarning: Using or importing the ABCs from 'collections' instead of from 'collections.abc' is deprecated since Python 3.3,and in 3.9 it will stop working\n",
      "  from collections import Mapping, defaultdict\n"
     ]
    }
   ],
   "source": [
    "from sklearn.feature_extraction.text import TfidfVectorizer\n",
    "from sklearn.model_selection import train_test_split\n",
    "\n",
    "# from sklearn.feature_extraction.text import CountVectorizer\n",
    "# from sklearn.feature_extraction.text import TfidfTransformer\n",
    "# from mlxtend.preprocessing import DenseTransformer\n",
    "# from sklearn.preprocessing import KBinsDiscretizer\n"
   ]
  },
  {
   "cell_type": "code",
   "execution_count": 9,
   "metadata": {},
   "outputs": [],
   "source": [
    "#Setting up Vectorizer\n",
    "vectorizer = TfidfVectorizer(\n",
    "    max_features=17000,\n",
    "    min_df=7,\n",
    "    max_df=0.8,\n",
    "    stop_words=\"english\",\n",
    "    ngram_range=(1,3),\n",
    ")\n",
    "\n",
    "# cvt = CountVectorizer(\n",
    "#     max_features=17000,\n",
    "#     min_df=7,\n",
    "#     max_df=0.8,\n",
    "#     stop_words=\"english\",\n",
    "#     ngram_range=(1,3)\n",
    "# )\n",
    "\n",
    "# est = KBinsDiscretizer(n_bins=2, strategy=\"uniform\")\n",
    "\n",
    "# tfid = TfidfTransformer()\n",
    "\n",
    "# dtf = DenseTransformer()"
   ]
  },
  {
   "cell_type": "code",
   "execution_count": 10,
   "metadata": {},
   "outputs": [],
   "source": [
    "# E-I\n",
    "X = E_I_df[\"text\"].values\n",
    "y = E_I_df[\"Encoded\"].values\n",
    "X_train_EI, X_test_EI, y_train_EI, y_test_EI = train_test_split(X, y, random_state=42)\n",
    "\n",
    "X_train_EI = vectorizer.fit_transform(X_train_EI)\n",
    "X_test_EI = vectorizer.transform(X_test_EI)\n",
    "\n",
    "# # E-I\n",
    "# X_train_EI = cvt.fit_transform(X_train_EI)\n",
    "# X_test_EI = cvt.transform(X_test_EI)\n",
    "\n",
    "# X_train_EI = dtf.fit_transform(X_train_EI)\n",
    "# X_test_EI = dtf.transform(X_test_EI)\n",
    "\n",
    "# X_train_EI = est.fit_transform(X_train_EI)\n",
    "# X_test_EI = est.transform(X_test_EI)\n",
    "\n",
    "# X_train_EI = tfid.fit_transform(X_train_EI)\n",
    "# X_test_EI = tfid.transform(X_test_EI)"
   ]
  },
  {
   "cell_type": "code",
   "execution_count": 11,
   "metadata": {},
   "outputs": [],
   "source": [
    "# N-S\n",
    "X = N_S_df[\"text\"].values\n",
    "y = N_S_df[\"Encoded\"].values\n",
    "X_train_NS, X_test_NS, y_train_NS, y_test_NS = train_test_split(X, y, random_state=42)\n",
    "\n",
    "X_train_NS = vectorizer.fit_transform(X_train_NS)\n",
    "X_test_NS = vectorizer.transform(X_test_NS)\n",
    "\n",
    "# N-S\n",
    "# X_train_NS = cvt.fit_transform(X_train_NS)\n",
    "# X_test_NS = cvt.transform(X_test_NS)\n",
    "\n",
    "# X_train_NS = dtf.fit_transform(X_train_NS)\n",
    "# X_test_NS = dtf.transform(X_test_NS)\n",
    "\n",
    "# X_train_NS = est.fit_transform(X_train_NS)\n",
    "# X_test_NS = est.transform(X_test_NS)\n",
    "\n",
    "# X_train_NS = tfid.fit_transform(X_train_NS)\n",
    "# X_test_NS = tfid.transform(X_test_NS)"
   ]
  },
  {
   "cell_type": "code",
   "execution_count": 12,
   "metadata": {},
   "outputs": [],
   "source": [
    "# T-F\n",
    "X = T_F_df[\"text\"].values\n",
    "y = T_F_df[\"Encoded\"].values\n",
    "X_train_TF, X_test_TF, y_train_TF, y_test_TF = train_test_split(X, y, random_state=42)\n",
    "\n",
    "X_train_TF = vectorizer.fit_transform(X_train_TF)\n",
    "X_test_TF = vectorizer.transform(X_test_TF)\n",
    "\n",
    "# T-F\n",
    "# X_train_TF = cvt.fit_transform(X_train_TF)\n",
    "# X_test_TF = cvt.transform(X_test_TF)\n",
    "\n",
    "# X_train_TF = dtf.fit_transform(X_train_TF)\n",
    "# X_test_TF = dtf.transform(X_test_TF)\n",
    "\n",
    "# X_train_TF = est.fit_transform(X_train_TF)\n",
    "# X_test_TF = est.transform(X_test_TF)\n",
    "\n",
    "# X_train_TF = tfid.fit_transform(X_train_TF)\n",
    "# X_test_TF = tfid.transform(X_test_TF)"
   ]
  },
  {
   "cell_type": "code",
   "execution_count": 13,
   "metadata": {},
   "outputs": [],
   "source": [
    "# J-P\n",
    "X = J_P_df[\"text\"].values\n",
    "y = J_P_df[\"Encoded\"].values\n",
    "X_train_JP, X_test_JP, y_train_JP, y_test_JP = train_test_split(X, y, random_state=42)\n",
    "\n",
    "X_train_JP = vectorizer.fit_transform(X_train_JP)\n",
    "X_test_JP = vectorizer.transform(X_test_JP)\n",
    "\n",
    "# J-P\n",
    "# X_train_JP = cvt.fit_transform(X_train_JP)\n",
    "# X_test_JP = cvt.transform(X_test_JP)\n",
    "\n",
    "# X_train_JP = dtf.fit_transform(X_train_JP)\n",
    "# X_test_JP = dtf.transform(X_test_JP)\n",
    "\n",
    "# X_train_JP = est.fit_transform(X_train_JP)\n",
    "# X_test_JP = est.transform(X_test_JP)\n",
    "\n",
    "# X_train_JP = tfid.fit_transform(X_train_JP)\n",
    "# X_test_JP = tfid.transform(X_test_JP)"
   ]
  },
  {
   "cell_type": "markdown",
   "metadata": {},
   "source": [
    "## 1. No resampling"
   ]
  },
  {
   "cell_type": "markdown",
   "metadata": {},
   "source": [
    "### 4 Model for 4 dimensions"
   ]
  },
  {
   "cell_type": "code",
   "execution_count": 14,
   "metadata": {},
   "outputs": [],
   "source": [
    "from sklearn import svm"
   ]
  },
  {
   "cell_type": "code",
   "execution_count": 15,
   "metadata": {
    "scrolled": false
   },
   "outputs": [
    {
     "data": {
      "text/html": [
       "<div>\n",
       "<style scoped>\n",
       "    .dataframe tbody tr th:only-of-type {\n",
       "        vertical-align: middle;\n",
       "    }\n",
       "\n",
       "    .dataframe tbody tr th {\n",
       "        vertical-align: top;\n",
       "    }\n",
       "\n",
       "    .dataframe thead th {\n",
       "        text-align: right;\n",
       "    }\n",
       "</style>\n",
       "<table border=\"1\" class=\"dataframe\">\n",
       "  <thead>\n",
       "    <tr style=\"text-align: right;\">\n",
       "      <th></th>\n",
       "      <th>Prediction</th>\n",
       "      <th>Actual</th>\n",
       "    </tr>\n",
       "  </thead>\n",
       "  <tbody>\n",
       "    <tr>\n",
       "      <th>0</th>\n",
       "      <td>0</td>\n",
       "      <td>1</td>\n",
       "    </tr>\n",
       "    <tr>\n",
       "      <th>1</th>\n",
       "      <td>1</td>\n",
       "      <td>1</td>\n",
       "    </tr>\n",
       "    <tr>\n",
       "      <th>2</th>\n",
       "      <td>1</td>\n",
       "      <td>1</td>\n",
       "    </tr>\n",
       "    <tr>\n",
       "      <th>3</th>\n",
       "      <td>0</td>\n",
       "      <td>0</td>\n",
       "    </tr>\n",
       "    <tr>\n",
       "      <th>4</th>\n",
       "      <td>1</td>\n",
       "      <td>0</td>\n",
       "    </tr>\n",
       "  </tbody>\n",
       "</table>\n",
       "</div>"
      ],
      "text/plain": [
       "   Prediction  Actual\n",
       "0           0       1\n",
       "1           1       1\n",
       "2           1       1\n",
       "3           0       0\n",
       "4           1       0"
      ]
     },
     "execution_count": 15,
     "metadata": {},
     "output_type": "execute_result"
    }
   ],
   "source": [
    "# E-I\n",
    "clf_EI = svm.LinearSVC(random_state=0, max_iter=2000, C=0.79)\n",
    "clf_EI.fit(X_train_EI, y_train_EI)\n",
    "\n",
    "# Predict outcomes for E-I test data set\n",
    "predictions_EI = clf_EI.predict(X_test_EI)\n",
    "clf_EI_pred = pd.DataFrame({\"Prediction\": predictions_EI, \"Actual\": y_test_EI})\n",
    "clf_EI_pred.head()"
   ]
  },
  {
   "cell_type": "code",
   "execution_count": 16,
   "metadata": {
    "scrolled": true
   },
   "outputs": [
    {
     "data": {
      "text/html": [
       "<div>\n",
       "<style scoped>\n",
       "    .dataframe tbody tr th:only-of-type {\n",
       "        vertical-align: middle;\n",
       "    }\n",
       "\n",
       "    .dataframe tbody tr th {\n",
       "        vertical-align: top;\n",
       "    }\n",
       "\n",
       "    .dataframe thead th {\n",
       "        text-align: right;\n",
       "    }\n",
       "</style>\n",
       "<table border=\"1\" class=\"dataframe\">\n",
       "  <thead>\n",
       "    <tr style=\"text-align: right;\">\n",
       "      <th></th>\n",
       "      <th>Prediction</th>\n",
       "      <th>Actual</th>\n",
       "    </tr>\n",
       "  </thead>\n",
       "  <tbody>\n",
       "    <tr>\n",
       "      <th>0</th>\n",
       "      <td>0</td>\n",
       "      <td>0</td>\n",
       "    </tr>\n",
       "    <tr>\n",
       "      <th>1</th>\n",
       "      <td>0</td>\n",
       "      <td>0</td>\n",
       "    </tr>\n",
       "    <tr>\n",
       "      <th>2</th>\n",
       "      <td>0</td>\n",
       "      <td>0</td>\n",
       "    </tr>\n",
       "    <tr>\n",
       "      <th>3</th>\n",
       "      <td>0</td>\n",
       "      <td>0</td>\n",
       "    </tr>\n",
       "    <tr>\n",
       "      <th>4</th>\n",
       "      <td>0</td>\n",
       "      <td>0</td>\n",
       "    </tr>\n",
       "  </tbody>\n",
       "</table>\n",
       "</div>"
      ],
      "text/plain": [
       "   Prediction  Actual\n",
       "0           0       0\n",
       "1           0       0\n",
       "2           0       0\n",
       "3           0       0\n",
       "4           0       0"
      ]
     },
     "execution_count": 16,
     "metadata": {},
     "output_type": "execute_result"
    }
   ],
   "source": [
    "# N-S\n",
    "clf_NS = svm.LinearSVC(random_state=0, max_iter=2000, C=0.79)\n",
    "clf_NS.fit(X_train_NS, y_train_NS)\n",
    "\n",
    "# Predict outcomes for N-S test data set\n",
    "predictions_NS = clf_NS.predict(X_test_NS)\n",
    "clf_NS_pred = pd.DataFrame({\"Prediction\": predictions_NS, \"Actual\": y_test_NS})\n",
    "clf_NS_pred.head()"
   ]
  },
  {
   "cell_type": "code",
   "execution_count": 17,
   "metadata": {},
   "outputs": [
    {
     "data": {
      "text/html": [
       "<div>\n",
       "<style scoped>\n",
       "    .dataframe tbody tr th:only-of-type {\n",
       "        vertical-align: middle;\n",
       "    }\n",
       "\n",
       "    .dataframe tbody tr th {\n",
       "        vertical-align: top;\n",
       "    }\n",
       "\n",
       "    .dataframe thead th {\n",
       "        text-align: right;\n",
       "    }\n",
       "</style>\n",
       "<table border=\"1\" class=\"dataframe\">\n",
       "  <thead>\n",
       "    <tr style=\"text-align: right;\">\n",
       "      <th></th>\n",
       "      <th>Prediction</th>\n",
       "      <th>Actual</th>\n",
       "    </tr>\n",
       "  </thead>\n",
       "  <tbody>\n",
       "    <tr>\n",
       "      <th>0</th>\n",
       "      <td>1</td>\n",
       "      <td>1</td>\n",
       "    </tr>\n",
       "    <tr>\n",
       "      <th>1</th>\n",
       "      <td>1</td>\n",
       "      <td>1</td>\n",
       "    </tr>\n",
       "    <tr>\n",
       "      <th>2</th>\n",
       "      <td>1</td>\n",
       "      <td>1</td>\n",
       "    </tr>\n",
       "    <tr>\n",
       "      <th>3</th>\n",
       "      <td>0</td>\n",
       "      <td>0</td>\n",
       "    </tr>\n",
       "    <tr>\n",
       "      <th>4</th>\n",
       "      <td>1</td>\n",
       "      <td>1</td>\n",
       "    </tr>\n",
       "  </tbody>\n",
       "</table>\n",
       "</div>"
      ],
      "text/plain": [
       "   Prediction  Actual\n",
       "0           1       1\n",
       "1           1       1\n",
       "2           1       1\n",
       "3           0       0\n",
       "4           1       1"
      ]
     },
     "execution_count": 17,
     "metadata": {},
     "output_type": "execute_result"
    }
   ],
   "source": [
    "# T-F\n",
    "clf_TF = svm.LinearSVC(random_state=0, max_iter=2000, C=0.79)\n",
    "clf_TF.fit(X_train_TF, y_train_TF)\n",
    "\n",
    "# Predict outcomes for T-F test data set\n",
    "predictions_TF = clf_TF.predict(X_test_TF)\n",
    "clf_TF_pred = pd.DataFrame({\"Prediction\": predictions_TF, \"Actual\": y_test_TF})\n",
    "clf_TF_pred.head()"
   ]
  },
  {
   "cell_type": "code",
   "execution_count": 18,
   "metadata": {
    "scrolled": true
   },
   "outputs": [
    {
     "data": {
      "text/html": [
       "<div>\n",
       "<style scoped>\n",
       "    .dataframe tbody tr th:only-of-type {\n",
       "        vertical-align: middle;\n",
       "    }\n",
       "\n",
       "    .dataframe tbody tr th {\n",
       "        vertical-align: top;\n",
       "    }\n",
       "\n",
       "    .dataframe thead th {\n",
       "        text-align: right;\n",
       "    }\n",
       "</style>\n",
       "<table border=\"1\" class=\"dataframe\">\n",
       "  <thead>\n",
       "    <tr style=\"text-align: right;\">\n",
       "      <th></th>\n",
       "      <th>Prediction</th>\n",
       "      <th>Actual</th>\n",
       "    </tr>\n",
       "  </thead>\n",
       "  <tbody>\n",
       "    <tr>\n",
       "      <th>0</th>\n",
       "      <td>1</td>\n",
       "      <td>1</td>\n",
       "    </tr>\n",
       "    <tr>\n",
       "      <th>1</th>\n",
       "      <td>0</td>\n",
       "      <td>0</td>\n",
       "    </tr>\n",
       "    <tr>\n",
       "      <th>2</th>\n",
       "      <td>1</td>\n",
       "      <td>1</td>\n",
       "    </tr>\n",
       "    <tr>\n",
       "      <th>3</th>\n",
       "      <td>0</td>\n",
       "      <td>1</td>\n",
       "    </tr>\n",
       "    <tr>\n",
       "      <th>4</th>\n",
       "      <td>0</td>\n",
       "      <td>0</td>\n",
       "    </tr>\n",
       "  </tbody>\n",
       "</table>\n",
       "</div>"
      ],
      "text/plain": [
       "   Prediction  Actual\n",
       "0           1       1\n",
       "1           0       0\n",
       "2           1       1\n",
       "3           0       1\n",
       "4           0       0"
      ]
     },
     "execution_count": 18,
     "metadata": {},
     "output_type": "execute_result"
    }
   ],
   "source": [
    "# J-P\n",
    "clf_JP = svm.LinearSVC(random_state=0, max_iter=2000, C=0.79)\n",
    "clf_JP.fit(X_train_JP, y_train_JP)\n",
    "\n",
    "# Predict outcomes for J-P test data set\n",
    "predictions_JP = clf_JP.predict(X_test_JP)\n",
    "clf_JP_pred = pd.DataFrame({\"Prediction\": predictions_JP, \"Actual\": y_test_JP})\n",
    "clf_JP_pred.head()"
   ]
  },
  {
   "cell_type": "markdown",
   "metadata": {},
   "source": [
    "### Accuracies for 4 Models"
   ]
  },
  {
   "cell_type": "code",
   "execution_count": 19,
   "metadata": {},
   "outputs": [],
   "source": [
    "from sklearn.metrics import confusion_matrix\n",
    "from sklearn.metrics import accuracy_score\n",
    "from sklearn.metrics import classification_report"
   ]
  },
  {
   "cell_type": "code",
   "execution_count": 20,
   "metadata": {
    "scrolled": false
   },
   "outputs": [
    {
     "name": "stdout",
     "output_type": "stream",
     "text": [
      "Accuracy of model at predicting MB types were: \n",
      " EI:0.8579990779160903 \n",
      " NS:0.8999538958045182 \n",
      " TF: 0.8395573997233748 \n",
      " JP: 0.7916090364223144\n"
     ]
    }
   ],
   "source": [
    "accEI = clf_EI.score(X_test_EI, y_test_EI)\n",
    "accNS = clf_NS.score(X_test_NS, y_test_NS)\n",
    "accTF = clf_TF.score(X_test_TF, y_test_TF)\n",
    "accJP = clf_JP.score(X_test_JP, y_test_JP)\n",
    "print(\"Accuracy of model at predicting MB types were: \\n EI:{accEI} \\n NS:{accNS} \\n TF: {accTF} \\n JP: {accJP}\".format(accEI=accEI, accNS=accNS, accTF=accTF, accJP=accJP ))"
   ]
  },
  {
   "cell_type": "code",
   "execution_count": 21,
   "metadata": {
    "scrolled": false
   },
   "outputs": [
    {
     "name": "stdout",
     "output_type": "stream",
     "text": [
      "E-I SVM Model\n",
      "Classification Report: \n",
      "\n",
      "             precision    recall  f1-score   support\n",
      "\n",
      "          0       0.76      0.52      0.61       473\n",
      "          1       0.88      0.95      0.91      1696\n",
      "\n",
      "avg / total       0.85      0.86      0.85      2169\n",
      "\n",
      "Confusion Matrix: \n",
      "\n",
      "[[ 244  229]\n",
      " [  79 1617]]\n"
     ]
    }
   ],
   "source": [
    "print(\"E-I SVM Model\")\n",
    "print(\"Classification Report: \\n\")\n",
    "print(classification_report(clf_EI_pred.Actual, clf_EI_pred.Prediction))\n",
    "print(\"Confusion Matrix: \\n\")\n",
    "print(confusion_matrix(clf_EI_pred.Actual, clf_EI_pred.Prediction))"
   ]
  },
  {
   "cell_type": "code",
   "execution_count": 22,
   "metadata": {},
   "outputs": [
    {
     "name": "stdout",
     "output_type": "stream",
     "text": [
      "N-S SVM Model\n",
      "Classification Report: \n",
      "\n",
      "             precision    recall  f1-score   support\n",
      "\n",
      "          0       0.91      0.99      0.94      1862\n",
      "          1       0.81      0.38      0.52       307\n",
      "\n",
      "avg / total       0.89      0.90      0.88      2169\n",
      "\n",
      "Confusion Matrix: \n",
      "\n",
      "[[1835   27]\n",
      " [ 190  117]]\n"
     ]
    }
   ],
   "source": [
    "print(\"N-S SVM Model\")\n",
    "print(\"Classification Report: \\n\")\n",
    "print(classification_report(clf_NS_pred.Actual, clf_NS_pred.Prediction))\n",
    "print(\"Confusion Matrix: \\n\")\n",
    "print(confusion_matrix(clf_NS_pred.Actual, clf_NS_pred.Prediction))"
   ]
  },
  {
   "cell_type": "code",
   "execution_count": 23,
   "metadata": {},
   "outputs": [
    {
     "name": "stdout",
     "output_type": "stream",
     "text": [
      "T-F SVM Model\n",
      "Classification Report: \n",
      "\n",
      "             precision    recall  f1-score   support\n",
      "\n",
      "          0       0.86      0.85      0.85      1179\n",
      "          1       0.82      0.83      0.83       990\n",
      "\n",
      "avg / total       0.84      0.84      0.84      2169\n",
      "\n",
      "Confusion Matrix: \n",
      "\n",
      "[[999 180]\n",
      " [168 822]]\n"
     ]
    }
   ],
   "source": [
    "print(\"T-F SVM Model\")\n",
    "print(\"Classification Report: \\n\")\n",
    "print(classification_report(clf_TF_pred.Actual, clf_TF_pred.Prediction))\n",
    "print(\"Confusion Matrix: \\n\")\n",
    "print(confusion_matrix(clf_TF_pred.Actual, clf_TF_pred.Prediction))"
   ]
  },
  {
   "cell_type": "code",
   "execution_count": 24,
   "metadata": {
    "scrolled": true
   },
   "outputs": [
    {
     "name": "stdout",
     "output_type": "stream",
     "text": [
      "J-P SVM Model\n",
      "Classification Report: \n",
      "\n",
      "             precision    recall  f1-score   support\n",
      "\n",
      "          0       0.76      0.67      0.71       842\n",
      "          1       0.81      0.87      0.84      1327\n",
      "\n",
      "avg / total       0.79      0.79      0.79      2169\n",
      "\n",
      "Confusion Matrix: \n",
      "\n",
      "[[ 565  277]\n",
      " [ 175 1152]]\n"
     ]
    }
   ],
   "source": [
    "print(\"J-P SVM Model\")\n",
    "print(\"Classification Report: \\n\")\n",
    "print(classification_report(clf_JP_pred.Actual, clf_JP_pred.Prediction))\n",
    "print(\"Confusion Matrix: \\n\")\n",
    "print(confusion_matrix(clf_JP_pred.Actual, clf_JP_pred.Prediction))"
   ]
  },
  {
   "cell_type": "markdown",
   "metadata": {},
   "source": [
    "## 2. Random Oversampling"
   ]
  },
  {
   "cell_type": "code",
   "execution_count": 25,
   "metadata": {},
   "outputs": [],
   "source": [
    "# implement random oversampling\n",
    "from imblearn.over_sampling import RandomOverSampler\n",
    "ros = RandomOverSampler(random_state=1)"
   ]
  },
  {
   "cell_type": "code",
   "execution_count": 62,
   "metadata": {},
   "outputs": [
    {
     "data": {
      "text/html": [
       "<div>\n",
       "<style scoped>\n",
       "    .dataframe tbody tr th:only-of-type {\n",
       "        vertical-align: middle;\n",
       "    }\n",
       "\n",
       "    .dataframe tbody tr th {\n",
       "        vertical-align: top;\n",
       "    }\n",
       "\n",
       "    .dataframe thead th {\n",
       "        text-align: right;\n",
       "    }\n",
       "</style>\n",
       "<table border=\"1\" class=\"dataframe\">\n",
       "  <thead>\n",
       "    <tr style=\"text-align: right;\">\n",
       "      <th></th>\n",
       "      <th>Prediction</th>\n",
       "      <th>Actual</th>\n",
       "    </tr>\n",
       "  </thead>\n",
       "  <tbody>\n",
       "    <tr>\n",
       "      <th>0</th>\n",
       "      <td>0</td>\n",
       "      <td>1</td>\n",
       "    </tr>\n",
       "    <tr>\n",
       "      <th>1</th>\n",
       "      <td>1</td>\n",
       "      <td>1</td>\n",
       "    </tr>\n",
       "    <tr>\n",
       "      <th>2</th>\n",
       "      <td>1</td>\n",
       "      <td>1</td>\n",
       "    </tr>\n",
       "    <tr>\n",
       "      <th>3</th>\n",
       "      <td>0</td>\n",
       "      <td>0</td>\n",
       "    </tr>\n",
       "    <tr>\n",
       "      <th>4</th>\n",
       "      <td>1</td>\n",
       "      <td>0</td>\n",
       "    </tr>\n",
       "  </tbody>\n",
       "</table>\n",
       "</div>"
      ],
      "text/plain": [
       "   Prediction  Actual\n",
       "0           0       1\n",
       "1           1       1\n",
       "2           1       1\n",
       "3           0       0\n",
       "4           1       0"
      ]
     },
     "execution_count": 62,
     "metadata": {},
     "output_type": "execute_result"
    }
   ],
   "source": [
    "# E-I\n",
    "X_resampled_EI, y_resampled_EI = ros.fit_sample(X_train_EI, y_train_EI)\n",
    "\n",
    "clf_EI = svm.LinearSVC(random_state=0, max_iter=2000, C=1)\n",
    "clf_EI.fit(X_resampled_EI, y_resampled_EI)\n",
    "\n",
    "# Predict outcomes for E-I test data set\n",
    "predictions_EI = clf_EI.predict(X_test_EI)\n",
    "clf_EI_pred = pd.DataFrame({\"Prediction\": predictions_EI, \"Actual\": y_test_EI})\n",
    "clf_EI_pred.head()"
   ]
  },
  {
   "cell_type": "code",
   "execution_count": 48,
   "metadata": {},
   "outputs": [
    {
     "data": {
      "text/html": [
       "<div>\n",
       "<style scoped>\n",
       "    .dataframe tbody tr th:only-of-type {\n",
       "        vertical-align: middle;\n",
       "    }\n",
       "\n",
       "    .dataframe tbody tr th {\n",
       "        vertical-align: top;\n",
       "    }\n",
       "\n",
       "    .dataframe thead th {\n",
       "        text-align: right;\n",
       "    }\n",
       "</style>\n",
       "<table border=\"1\" class=\"dataframe\">\n",
       "  <thead>\n",
       "    <tr style=\"text-align: right;\">\n",
       "      <th></th>\n",
       "      <th>Prediction</th>\n",
       "      <th>Actual</th>\n",
       "    </tr>\n",
       "  </thead>\n",
       "  <tbody>\n",
       "    <tr>\n",
       "      <th>0</th>\n",
       "      <td>0</td>\n",
       "      <td>0</td>\n",
       "    </tr>\n",
       "    <tr>\n",
       "      <th>1</th>\n",
       "      <td>0</td>\n",
       "      <td>0</td>\n",
       "    </tr>\n",
       "    <tr>\n",
       "      <th>2</th>\n",
       "      <td>0</td>\n",
       "      <td>0</td>\n",
       "    </tr>\n",
       "    <tr>\n",
       "      <th>3</th>\n",
       "      <td>0</td>\n",
       "      <td>0</td>\n",
       "    </tr>\n",
       "    <tr>\n",
       "      <th>4</th>\n",
       "      <td>0</td>\n",
       "      <td>0</td>\n",
       "    </tr>\n",
       "  </tbody>\n",
       "</table>\n",
       "</div>"
      ],
      "text/plain": [
       "   Prediction  Actual\n",
       "0           0       0\n",
       "1           0       0\n",
       "2           0       0\n",
       "3           0       0\n",
       "4           0       0"
      ]
     },
     "execution_count": 48,
     "metadata": {},
     "output_type": "execute_result"
    }
   ],
   "source": [
    "# N-S\n",
    "X_resampled_NS, y_resampled_NS = ros.fit_sample(X_train_NS, y_train_NS)\n",
    "\n",
    "clf_NS = svm.LinearSVC(random_state=0, max_iter=2000, C=1)\n",
    "clf_NS.fit(X_resampled_NS, y_resampled_NS)\n",
    "\n",
    "# Predict outcomes for E-I test data set\n",
    "predictions_NS = clf_NS.predict(X_test_NS)\n",
    "clf_NS_pred = pd.DataFrame({\"Prediction\": predictions_NS, \"Actual\": y_test_NS})\n",
    "clf_NS_pred.head()"
   ]
  },
  {
   "cell_type": "code",
   "execution_count": 49,
   "metadata": {},
   "outputs": [
    {
     "data": {
      "text/html": [
       "<div>\n",
       "<style scoped>\n",
       "    .dataframe tbody tr th:only-of-type {\n",
       "        vertical-align: middle;\n",
       "    }\n",
       "\n",
       "    .dataframe tbody tr th {\n",
       "        vertical-align: top;\n",
       "    }\n",
       "\n",
       "    .dataframe thead th {\n",
       "        text-align: right;\n",
       "    }\n",
       "</style>\n",
       "<table border=\"1\" class=\"dataframe\">\n",
       "  <thead>\n",
       "    <tr style=\"text-align: right;\">\n",
       "      <th></th>\n",
       "      <th>Prediction</th>\n",
       "      <th>Actual</th>\n",
       "    </tr>\n",
       "  </thead>\n",
       "  <tbody>\n",
       "    <tr>\n",
       "      <th>0</th>\n",
       "      <td>1</td>\n",
       "      <td>1</td>\n",
       "    </tr>\n",
       "    <tr>\n",
       "      <th>1</th>\n",
       "      <td>1</td>\n",
       "      <td>1</td>\n",
       "    </tr>\n",
       "    <tr>\n",
       "      <th>2</th>\n",
       "      <td>1</td>\n",
       "      <td>1</td>\n",
       "    </tr>\n",
       "    <tr>\n",
       "      <th>3</th>\n",
       "      <td>0</td>\n",
       "      <td>0</td>\n",
       "    </tr>\n",
       "    <tr>\n",
       "      <th>4</th>\n",
       "      <td>1</td>\n",
       "      <td>1</td>\n",
       "    </tr>\n",
       "  </tbody>\n",
       "</table>\n",
       "</div>"
      ],
      "text/plain": [
       "   Prediction  Actual\n",
       "0           1       1\n",
       "1           1       1\n",
       "2           1       1\n",
       "3           0       0\n",
       "4           1       1"
      ]
     },
     "execution_count": 49,
     "metadata": {},
     "output_type": "execute_result"
    }
   ],
   "source": [
    "#T-F\n",
    "X_resampled_TF, y_resampled_TF = ros.fit_sample(X_train_TF, y_train_TF)\n",
    "\n",
    "clf_TF = svm.LinearSVC(random_state=0, max_iter=2000, C=1)\n",
    "clf_TF.fit(X_resampled_TF, y_resampled_TF)\n",
    "\n",
    "# Predict outcomes for E-I test data set\n",
    "predictions_TF = clf_TF.predict(X_test_TF)\n",
    "clf_TF_pred = pd.DataFrame({\"Prediction\": predictions_TF, \"Actual\": y_test_TF})\n",
    "clf_TF_pred.head()\n"
   ]
  },
  {
   "cell_type": "code",
   "execution_count": 50,
   "metadata": {},
   "outputs": [
    {
     "data": {
      "text/html": [
       "<div>\n",
       "<style scoped>\n",
       "    .dataframe tbody tr th:only-of-type {\n",
       "        vertical-align: middle;\n",
       "    }\n",
       "\n",
       "    .dataframe tbody tr th {\n",
       "        vertical-align: top;\n",
       "    }\n",
       "\n",
       "    .dataframe thead th {\n",
       "        text-align: right;\n",
       "    }\n",
       "</style>\n",
       "<table border=\"1\" class=\"dataframe\">\n",
       "  <thead>\n",
       "    <tr style=\"text-align: right;\">\n",
       "      <th></th>\n",
       "      <th>Prediction</th>\n",
       "      <th>Actual</th>\n",
       "    </tr>\n",
       "  </thead>\n",
       "  <tbody>\n",
       "    <tr>\n",
       "      <th>0</th>\n",
       "      <td>1</td>\n",
       "      <td>1</td>\n",
       "    </tr>\n",
       "    <tr>\n",
       "      <th>1</th>\n",
       "      <td>0</td>\n",
       "      <td>0</td>\n",
       "    </tr>\n",
       "    <tr>\n",
       "      <th>2</th>\n",
       "      <td>1</td>\n",
       "      <td>1</td>\n",
       "    </tr>\n",
       "    <tr>\n",
       "      <th>3</th>\n",
       "      <td>0</td>\n",
       "      <td>1</td>\n",
       "    </tr>\n",
       "    <tr>\n",
       "      <th>4</th>\n",
       "      <td>0</td>\n",
       "      <td>0</td>\n",
       "    </tr>\n",
       "  </tbody>\n",
       "</table>\n",
       "</div>"
      ],
      "text/plain": [
       "   Prediction  Actual\n",
       "0           1       1\n",
       "1           0       0\n",
       "2           1       1\n",
       "3           0       1\n",
       "4           0       0"
      ]
     },
     "execution_count": 50,
     "metadata": {},
     "output_type": "execute_result"
    }
   ],
   "source": [
    "# J-P\n",
    "\n",
    "X_resampled_JP, y_resampled_JP = ros.fit_sample(X_train_JP, y_train_JP)\n",
    "\n",
    "clf_JP = svm.LinearSVC(random_state=0, max_iter=2000, C=1)\n",
    "clf_JP.fit(X_resampled_JP, y_resampled_JP)\n",
    "\n",
    "# Predict outcomes for E-I test data set\n",
    "predictions_JP = clf_JP.predict(X_test_JP)\n",
    "clf_JP_pred = pd.DataFrame({\"Prediction\": predictions_JP, \"Actual\": y_test_JP})\n",
    "clf_JP_pred.head()\n"
   ]
  },
  {
   "cell_type": "markdown",
   "metadata": {},
   "source": [
    "### Model evaluation"
   ]
  },
  {
   "cell_type": "code",
   "execution_count": 63,
   "metadata": {},
   "outputs": [
    {
     "name": "stdout",
     "output_type": "stream",
     "text": [
      "Accuracy of model at predicting MB types were: \n",
      " EI:0.8400184416781927 \n",
      " NS:0.9004149377593361 \n",
      " TF: 0.8363301060396496 \n",
      " JP: 0.7874596588289534\n"
     ]
    }
   ],
   "source": [
    "accEI = clf_EI.score(X_test_EI, y_test_EI)\n",
    "accNS = clf_NS.score(X_test_NS, y_test_NS)\n",
    "accTF = clf_TF.score(X_test_TF, y_test_TF)\n",
    "accJP = clf_JP.score(X_test_JP, y_test_JP)\n",
    "print(\"Accuracy of model at predicting MB types were: \\n EI:{accEI} \\n NS:{accNS} \\n TF: {accTF} \\n JP: {accJP}\".format(accEI=accEI, accNS=accNS, accTF=accTF, accJP=accJP ))"
   ]
  },
  {
   "cell_type": "code",
   "execution_count": 66,
   "metadata": {},
   "outputs": [
    {
     "name": "stdout",
     "output_type": "stream",
     "text": [
      "E-I SVM Model\n",
      "Classification Report: \n",
      "\n",
      "             precision    recall  f1-score   support\n",
      "\n",
      "          0       0.65      0.59      0.62       473\n",
      "          1       0.89      0.91      0.90      1696\n",
      "\n",
      "avg / total       0.84      0.84      0.84      2169\n",
      "\n",
      "Accuracy score: 0.840 \n",
      "\n",
      "Confusion Matrix: \n",
      "\n",
      "[[ 280  193]\n",
      " [ 154 1542]]\n"
     ]
    }
   ],
   "source": [
    "print(\"E-I SVM Model\")\n",
    "print(\"Classification Report: \\n\")\n",
    "print(classification_report(clf_EI_pred.Actual, clf_EI_pred.Prediction))\n",
    "print(f\"Accuracy score: {accEI:.3f} \\n\")\n",
    "\n",
    "print(\"Confusion Matrix: \\n\")\n",
    "print(confusion_matrix(clf_EI_pred.Actual, clf_EI_pred.Prediction))"
   ]
  },
  {
   "cell_type": "code",
   "execution_count": 67,
   "metadata": {},
   "outputs": [
    {
     "name": "stdout",
     "output_type": "stream",
     "text": [
      "N-S SVM Model\n",
      "Classification Report: \n",
      "\n",
      "             precision    recall  f1-score   support\n",
      "\n",
      "          0       0.93      0.96      0.94      1862\n",
      "          1       0.69      0.54      0.61       307\n",
      "\n",
      "avg / total       0.89      0.90      0.90      2169\n",
      "\n",
      "Accuracy score: 0.900 \n",
      "\n",
      "Confusion Matrix: \n",
      "\n",
      "[[1786   76]\n",
      " [ 140  167]]\n"
     ]
    }
   ],
   "source": [
    "print(\"N-S SVM Model\")\n",
    "print(\"Classification Report: \\n\")\n",
    "print(classification_report(clf_NS_pred.Actual, clf_NS_pred.Prediction))\n",
    "print(f\"Accuracy score: {accNS:.3f} \\n\")\n",
    "\n",
    "print(\"Confusion Matrix: \\n\")\n",
    "print(confusion_matrix(clf_NS_pred.Actual, clf_NS_pred.Prediction))"
   ]
  },
  {
   "cell_type": "code",
   "execution_count": 68,
   "metadata": {},
   "outputs": [
    {
     "name": "stdout",
     "output_type": "stream",
     "text": [
      "T-F SVM Model\n",
      "Classification Report: \n",
      "\n",
      "             precision    recall  f1-score   support\n",
      "\n",
      "          0       0.86      0.84      0.85      1179\n",
      "          1       0.81      0.83      0.82       990\n",
      "\n",
      "avg / total       0.84      0.84      0.84      2169\n",
      "\n",
      "Accuracy score: 0.836 \n",
      "\n",
      "Confusion Matrix: \n",
      "\n",
      "[[991 188]\n",
      " [167 823]]\n"
     ]
    }
   ],
   "source": [
    "print(\"T-F SVM Model\")\n",
    "print(\"Classification Report: \\n\")\n",
    "print(classification_report(clf_TF_pred.Actual, clf_TF_pred.Prediction))\n",
    "print(f\"Accuracy score: {accTF:.3f} \\n\")\n",
    "\n",
    "print(\"Confusion Matrix: \\n\")\n",
    "print(confusion_matrix(clf_TF_pred.Actual, clf_TF_pred.Prediction))"
   ]
  },
  {
   "cell_type": "code",
   "execution_count": 69,
   "metadata": {},
   "outputs": [
    {
     "name": "stdout",
     "output_type": "stream",
     "text": [
      "J-P SVM Model\n",
      "Classification Report: \n",
      "\n",
      "             precision    recall  f1-score   support\n",
      "\n",
      "          0       0.73      0.71      0.72       842\n",
      "          1       0.82      0.84      0.83      1327\n",
      "\n",
      "avg / total       0.79      0.79      0.79      2169\n",
      "\n",
      "Accuracy score: 0.787 \n",
      "\n",
      "Confusion Matrix: \n",
      "\n",
      "[[ 598  244]\n",
      " [ 217 1110]]\n"
     ]
    }
   ],
   "source": [
    "print(\"J-P SVM Model\")\n",
    "print(\"Classification Report: \\n\")\n",
    "print(classification_report(clf_JP_pred.Actual, clf_JP_pred.Prediction))\n",
    "print(f\"Accuracy score: {accJP:.3f} \\n\")\n",
    "\n",
    "print(\"Confusion Matrix: \\n\")\n",
    "print(confusion_matrix(clf_JP_pred.Actual, clf_JP_pred.Prediction))"
   ]
  },
  {
   "cell_type": "code",
   "execution_count": 70,
   "metadata": {},
   "outputs": [
    {
     "name": "stdout",
     "output_type": "stream",
     "text": [
      "E-I SVM Model\n",
      "             precision    recall  f1-score   support\n",
      "\n",
      "          0       0.65      0.59      0.62       473\n",
      "          1       0.89      0.91      0.90      1696\n",
      "\n",
      "avg / total       0.84      0.84      0.84      2169\n",
      "\n",
      "Accuracy score: 0.840\n",
      "---------------------------\n",
      "N-S SVM Model\n",
      "             precision    recall  f1-score   support\n",
      "\n",
      "          0       0.93      0.96      0.94      1862\n",
      "          1       0.69      0.54      0.61       307\n",
      "\n",
      "avg / total       0.89      0.90      0.90      2169\n",
      "\n",
      "Accuracy score: 0.900\n",
      "---------------------------\n",
      "T-F SVM Model\n",
      "             precision    recall  f1-score   support\n",
      "\n",
      "          0       0.86      0.84      0.85      1179\n",
      "          1       0.81      0.83      0.82       990\n",
      "\n",
      "avg / total       0.84      0.84      0.84      2169\n",
      "\n",
      "Accuracy score: 0.836\n",
      "---------------------------\n",
      "J-P SVM Model\n",
      "             precision    recall  f1-score   support\n",
      "\n",
      "          0       0.73      0.71      0.72       842\n",
      "          1       0.82      0.84      0.83      1327\n",
      "\n",
      "avg / total       0.79      0.79      0.79      2169\n",
      "\n",
      "Accuracy score: 0.787\n"
     ]
    }
   ],
   "source": [
    "# print in one table\n",
    "print(\"E-I SVM Model\")\n",
    "print(classification_report(clf_EI_pred.Actual, clf_EI_pred.Prediction))\n",
    "print(f\"Accuracy score: {accEI:.3f}\")\n",
    "print(f\"---------------------------\")\n",
    "\n",
    "print(\"N-S SVM Model\")\n",
    "print(classification_report(clf_NS_pred.Actual, clf_NS_pred.Prediction))\n",
    "print(f\"Accuracy score: {accNS:.3f}\")\n",
    "print(f\"---------------------------\")\n",
    "\n",
    "print(\"T-F SVM Model\")\n",
    "print(classification_report(clf_TF_pred.Actual, clf_TF_pred.Prediction))\n",
    "print(f\"Accuracy score: {accTF:.3f}\")\n",
    "print(f\"---------------------------\")\n",
    "\n",
    "print(\"J-P SVM Model\")\n",
    "print(classification_report(clf_JP_pred.Actual, clf_JP_pred.Prediction))\n",
    "print(f\"Accuracy score: {accJP:.3f}\")"
   ]
  },
  {
   "cell_type": "code",
   "execution_count": null,
   "metadata": {},
   "outputs": [],
   "source": []
  }
 ],
 "metadata": {
  "kernelspec": {
   "display_name": "PythonData",
   "language": "python",
   "name": "pythondata"
  },
  "language_info": {
   "codemirror_mode": {
    "name": "ipython",
    "version": 3
   },
   "file_extension": ".py",
   "mimetype": "text/x-python",
   "name": "python",
   "nbconvert_exporter": "python",
   "pygments_lexer": "ipython3",
   "version": "3.7.6"
  }
 },
 "nbformat": 4,
 "nbformat_minor": 4
}
