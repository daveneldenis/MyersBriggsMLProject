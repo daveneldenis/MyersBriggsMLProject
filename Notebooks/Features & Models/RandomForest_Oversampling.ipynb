{
 "cells": [
  {
   "cell_type": "markdown",
   "metadata": {},
   "source": [
    "# Myers Brigss ML Project: RandomForest Model"
   ]
  },
  {
   "cell_type": "markdown",
   "metadata": {},
   "source": [
    "### Imports & Dependencies"
   ]
  },
  {
   "cell_type": "code",
   "execution_count": 1,
   "metadata": {},
   "outputs": [],
   "source": [
    "import pandas as pd\n",
    "import numpy as np\n",
    "import os\n",
    "import re"
   ]
  },
  {
   "cell_type": "code",
   "execution_count": 2,
   "metadata": {
    "scrolled": true
   },
   "outputs": [
    {
     "data": {
      "text/html": [
       "<div>\n",
       "<style scoped>\n",
       "    .dataframe tbody tr th:only-of-type {\n",
       "        vertical-align: middle;\n",
       "    }\n",
       "\n",
       "    .dataframe tbody tr th {\n",
       "        vertical-align: top;\n",
       "    }\n",
       "\n",
       "    .dataframe thead th {\n",
       "        text-align: right;\n",
       "    }\n",
       "</style>\n",
       "<table border=\"1\" class=\"dataframe\">\n",
       "  <thead>\n",
       "    <tr style=\"text-align: right;\">\n",
       "      <th></th>\n",
       "      <th>type</th>\n",
       "      <th>posts</th>\n",
       "      <th>http_count</th>\n",
       "      <th>no_url</th>\n",
       "      <th>text</th>\n",
       "    </tr>\n",
       "  </thead>\n",
       "  <tbody>\n",
       "    <tr>\n",
       "      <th>0</th>\n",
       "      <td>INFJ</td>\n",
       "      <td>'http://www.youtube.com/watch?v=qsXHcwe3krw|||...</td>\n",
       "      <td>24</td>\n",
       "      <td>' and intj moments    sportscenter not top ten...</td>\n",
       "      <td>and intj moments    sportscenter not top ten p...</td>\n",
       "    </tr>\n",
       "    <tr>\n",
       "      <th>1</th>\n",
       "      <td>ENTP</td>\n",
       "      <td>'I'm finding the lack of me in these posts ver...</td>\n",
       "      <td>10</td>\n",
       "      <td>'I'm finding the lack of me in these posts ver...</td>\n",
       "      <td>i m finding the lack of me in these posts very...</td>\n",
       "    </tr>\n",
       "    <tr>\n",
       "      <th>2</th>\n",
       "      <td>INTP</td>\n",
       "      <td>'Good one  _____   https://www.youtube.com/wat...</td>\n",
       "      <td>5</td>\n",
       "      <td>'Good one  _____    course, to which I say I k...</td>\n",
       "      <td>good one           course  to which i say i kn...</td>\n",
       "    </tr>\n",
       "    <tr>\n",
       "      <th>3</th>\n",
       "      <td>INTJ</td>\n",
       "      <td>'Dear INTP,   I enjoyed our conversation the o...</td>\n",
       "      <td>2</td>\n",
       "      <td>'Dear INTP,   I enjoyed our conversation the o...</td>\n",
       "      <td>dear intp    i enjoyed our conversation the ot...</td>\n",
       "    </tr>\n",
       "    <tr>\n",
       "      <th>4</th>\n",
       "      <td>ENTJ</td>\n",
       "      <td>'You're fired.|||That's another silly misconce...</td>\n",
       "      <td>6</td>\n",
       "      <td>'You're fired.|||That's another silly misconce...</td>\n",
       "      <td>you re fired  that s another silly misconcepti...</td>\n",
       "    </tr>\n",
       "  </tbody>\n",
       "</table>\n",
       "</div>"
      ],
      "text/plain": [
       "   type                                              posts  http_count  \\\n",
       "0  INFJ  'http://www.youtube.com/watch?v=qsXHcwe3krw|||...          24   \n",
       "1  ENTP  'I'm finding the lack of me in these posts ver...          10   \n",
       "2  INTP  'Good one  _____   https://www.youtube.com/wat...           5   \n",
       "3  INTJ  'Dear INTP,   I enjoyed our conversation the o...           2   \n",
       "4  ENTJ  'You're fired.|||That's another silly misconce...           6   \n",
       "\n",
       "                                              no_url  \\\n",
       "0  ' and intj moments    sportscenter not top ten...   \n",
       "1  'I'm finding the lack of me in these posts ver...   \n",
       "2  'Good one  _____    course, to which I say I k...   \n",
       "3  'Dear INTP,   I enjoyed our conversation the o...   \n",
       "4  'You're fired.|||That's another silly misconce...   \n",
       "\n",
       "                                                text  \n",
       "0  and intj moments    sportscenter not top ten p...  \n",
       "1  i m finding the lack of me in these posts very...  \n",
       "2  good one           course  to which i say i kn...  \n",
       "3  dear intp    i enjoyed our conversation the ot...  \n",
       "4  you re fired  that s another silly misconcepti...  "
      ]
     },
     "execution_count": 2,
     "metadata": {},
     "output_type": "execute_result"
    }
   ],
   "source": [
    "# import the cleaned df\n",
    "cleaned_df = pd.read_csv('../../Resources/data/cleaned_mbti.csv', index_col=0)\n",
    "cleaned_df.head()"
   ]
  },
  {
   "cell_type": "markdown",
   "metadata": {},
   "source": [
    "### Split into 4 dataframes for each boolean dimension"
   ]
  },
  {
   "cell_type": "code",
   "execution_count": 3,
   "metadata": {},
   "outputs": [],
   "source": [
    "from sklearn.preprocessing import LabelEncoder\n",
    "le = LabelEncoder()"
   ]
  },
  {
   "cell_type": "code",
   "execution_count": 4,
   "metadata": {},
   "outputs": [
    {
     "data": {
      "text/html": [
       "<div>\n",
       "<style scoped>\n",
       "    .dataframe tbody tr th:only-of-type {\n",
       "        vertical-align: middle;\n",
       "    }\n",
       "\n",
       "    .dataframe tbody tr th {\n",
       "        vertical-align: top;\n",
       "    }\n",
       "\n",
       "    .dataframe thead th {\n",
       "        text-align: right;\n",
       "    }\n",
       "</style>\n",
       "<table border=\"1\" class=\"dataframe\">\n",
       "  <thead>\n",
       "    <tr style=\"text-align: right;\">\n",
       "      <th></th>\n",
       "      <th>Encoded</th>\n",
       "      <th>E-I</th>\n",
       "      <th>type</th>\n",
       "      <th>text</th>\n",
       "    </tr>\n",
       "  </thead>\n",
       "  <tbody>\n",
       "    <tr>\n",
       "      <th>0</th>\n",
       "      <td>1</td>\n",
       "      <td>I</td>\n",
       "      <td>INFJ</td>\n",
       "      <td>and intj moments    sportscenter not top ten p...</td>\n",
       "    </tr>\n",
       "    <tr>\n",
       "      <th>1</th>\n",
       "      <td>0</td>\n",
       "      <td>E</td>\n",
       "      <td>ENTP</td>\n",
       "      <td>i m finding the lack of me in these posts very...</td>\n",
       "    </tr>\n",
       "    <tr>\n",
       "      <th>2</th>\n",
       "      <td>1</td>\n",
       "      <td>I</td>\n",
       "      <td>INTP</td>\n",
       "      <td>good one           course  to which i say i kn...</td>\n",
       "    </tr>\n",
       "    <tr>\n",
       "      <th>3</th>\n",
       "      <td>1</td>\n",
       "      <td>I</td>\n",
       "      <td>INTJ</td>\n",
       "      <td>dear intp    i enjoyed our conversation the ot...</td>\n",
       "    </tr>\n",
       "    <tr>\n",
       "      <th>4</th>\n",
       "      <td>0</td>\n",
       "      <td>E</td>\n",
       "      <td>ENTJ</td>\n",
       "      <td>you re fired  that s another silly misconcepti...</td>\n",
       "    </tr>\n",
       "  </tbody>\n",
       "</table>\n",
       "</div>"
      ],
      "text/plain": [
       "   Encoded E-I  type                                               text\n",
       "0        1   I  INFJ  and intj moments    sportscenter not top ten p...\n",
       "1        0   E  ENTP  i m finding the lack of me in these posts very...\n",
       "2        1   I  INTP  good one           course  to which i say i kn...\n",
       "3        1   I  INTJ  dear intp    i enjoyed our conversation the ot...\n",
       "4        0   E  ENTJ  you re fired  that s another silly misconcepti..."
      ]
     },
     "execution_count": 4,
     "metadata": {},
     "output_type": "execute_result"
    }
   ],
   "source": [
    "E_I_df = cleaned_df.copy()\n",
    "E_I_df['E-I'] = cleaned_df[\"type\"].str.extract('(.)[N,S]',1)\n",
    "E_I_df['Encoded'] = le.fit_transform(E_I_df['E-I'])\n",
    "E_I_df = E_I_df[['Encoded', 'E-I', 'type', 'text']]\n",
    "E_I_df.head()"
   ]
  },
  {
   "cell_type": "code",
   "execution_count": 5,
   "metadata": {},
   "outputs": [
    {
     "data": {
      "text/html": [
       "<div>\n",
       "<style scoped>\n",
       "    .dataframe tbody tr th:only-of-type {\n",
       "        vertical-align: middle;\n",
       "    }\n",
       "\n",
       "    .dataframe tbody tr th {\n",
       "        vertical-align: top;\n",
       "    }\n",
       "\n",
       "    .dataframe thead th {\n",
       "        text-align: right;\n",
       "    }\n",
       "</style>\n",
       "<table border=\"1\" class=\"dataframe\">\n",
       "  <thead>\n",
       "    <tr style=\"text-align: right;\">\n",
       "      <th></th>\n",
       "      <th>Encoded</th>\n",
       "      <th>N-S</th>\n",
       "      <th>type</th>\n",
       "      <th>text</th>\n",
       "    </tr>\n",
       "  </thead>\n",
       "  <tbody>\n",
       "    <tr>\n",
       "      <th>0</th>\n",
       "      <td>0</td>\n",
       "      <td>N</td>\n",
       "      <td>INFJ</td>\n",
       "      <td>and intj moments    sportscenter not top ten p...</td>\n",
       "    </tr>\n",
       "    <tr>\n",
       "      <th>1</th>\n",
       "      <td>0</td>\n",
       "      <td>N</td>\n",
       "      <td>ENTP</td>\n",
       "      <td>i m finding the lack of me in these posts very...</td>\n",
       "    </tr>\n",
       "    <tr>\n",
       "      <th>2</th>\n",
       "      <td>0</td>\n",
       "      <td>N</td>\n",
       "      <td>INTP</td>\n",
       "      <td>good one           course  to which i say i kn...</td>\n",
       "    </tr>\n",
       "    <tr>\n",
       "      <th>3</th>\n",
       "      <td>0</td>\n",
       "      <td>N</td>\n",
       "      <td>INTJ</td>\n",
       "      <td>dear intp    i enjoyed our conversation the ot...</td>\n",
       "    </tr>\n",
       "    <tr>\n",
       "      <th>4</th>\n",
       "      <td>0</td>\n",
       "      <td>N</td>\n",
       "      <td>ENTJ</td>\n",
       "      <td>you re fired  that s another silly misconcepti...</td>\n",
       "    </tr>\n",
       "  </tbody>\n",
       "</table>\n",
       "</div>"
      ],
      "text/plain": [
       "   Encoded N-S  type                                               text\n",
       "0        0   N  INFJ  and intj moments    sportscenter not top ten p...\n",
       "1        0   N  ENTP  i m finding the lack of me in these posts very...\n",
       "2        0   N  INTP  good one           course  to which i say i kn...\n",
       "3        0   N  INTJ  dear intp    i enjoyed our conversation the ot...\n",
       "4        0   N  ENTJ  you re fired  that s another silly misconcepti..."
      ]
     },
     "execution_count": 5,
     "metadata": {},
     "output_type": "execute_result"
    }
   ],
   "source": [
    "N_S_df = cleaned_df.copy()\n",
    "N_S_df['N-S'] = cleaned_df[\"type\"].str.extract('[E,I](.)[F,T]',1)\n",
    "N_S_df['Encoded'] = le.fit_transform(N_S_df['N-S'])\n",
    "N_S_df = N_S_df[['Encoded', 'N-S', 'type', 'text']]\n",
    "N_S_df.head()"
   ]
  },
  {
   "cell_type": "code",
   "execution_count": 6,
   "metadata": {},
   "outputs": [
    {
     "data": {
      "text/html": [
       "<div>\n",
       "<style scoped>\n",
       "    .dataframe tbody tr th:only-of-type {\n",
       "        vertical-align: middle;\n",
       "    }\n",
       "\n",
       "    .dataframe tbody tr th {\n",
       "        vertical-align: top;\n",
       "    }\n",
       "\n",
       "    .dataframe thead th {\n",
       "        text-align: right;\n",
       "    }\n",
       "</style>\n",
       "<table border=\"1\" class=\"dataframe\">\n",
       "  <thead>\n",
       "    <tr style=\"text-align: right;\">\n",
       "      <th></th>\n",
       "      <th>Encoded</th>\n",
       "      <th>T-F</th>\n",
       "      <th>type</th>\n",
       "      <th>text</th>\n",
       "    </tr>\n",
       "  </thead>\n",
       "  <tbody>\n",
       "    <tr>\n",
       "      <th>0</th>\n",
       "      <td>0</td>\n",
       "      <td>F</td>\n",
       "      <td>INFJ</td>\n",
       "      <td>and intj moments    sportscenter not top ten p...</td>\n",
       "    </tr>\n",
       "    <tr>\n",
       "      <th>1</th>\n",
       "      <td>1</td>\n",
       "      <td>T</td>\n",
       "      <td>ENTP</td>\n",
       "      <td>i m finding the lack of me in these posts very...</td>\n",
       "    </tr>\n",
       "    <tr>\n",
       "      <th>2</th>\n",
       "      <td>1</td>\n",
       "      <td>T</td>\n",
       "      <td>INTP</td>\n",
       "      <td>good one           course  to which i say i kn...</td>\n",
       "    </tr>\n",
       "    <tr>\n",
       "      <th>3</th>\n",
       "      <td>1</td>\n",
       "      <td>T</td>\n",
       "      <td>INTJ</td>\n",
       "      <td>dear intp    i enjoyed our conversation the ot...</td>\n",
       "    </tr>\n",
       "    <tr>\n",
       "      <th>4</th>\n",
       "      <td>1</td>\n",
       "      <td>T</td>\n",
       "      <td>ENTJ</td>\n",
       "      <td>you re fired  that s another silly misconcepti...</td>\n",
       "    </tr>\n",
       "  </tbody>\n",
       "</table>\n",
       "</div>"
      ],
      "text/plain": [
       "   Encoded T-F  type                                               text\n",
       "0        0   F  INFJ  and intj moments    sportscenter not top ten p...\n",
       "1        1   T  ENTP  i m finding the lack of me in these posts very...\n",
       "2        1   T  INTP  good one           course  to which i say i kn...\n",
       "3        1   T  INTJ  dear intp    i enjoyed our conversation the ot...\n",
       "4        1   T  ENTJ  you re fired  that s another silly misconcepti..."
      ]
     },
     "execution_count": 6,
     "metadata": {},
     "output_type": "execute_result"
    }
   ],
   "source": [
    "T_F_df = cleaned_df.copy()\n",
    "T_F_df['T-F'] = cleaned_df[\"type\"].str.extract('[N,S](.)[J,P]',1)\n",
    "T_F_df['Encoded'] = le.fit_transform(T_F_df['T-F'])\n",
    "T_F_df = T_F_df[['Encoded', 'T-F', 'type', 'text']]\n",
    "T_F_df.head()"
   ]
  },
  {
   "cell_type": "code",
   "execution_count": 7,
   "metadata": {},
   "outputs": [
    {
     "data": {
      "text/html": [
       "<div>\n",
       "<style scoped>\n",
       "    .dataframe tbody tr th:only-of-type {\n",
       "        vertical-align: middle;\n",
       "    }\n",
       "\n",
       "    .dataframe tbody tr th {\n",
       "        vertical-align: top;\n",
       "    }\n",
       "\n",
       "    .dataframe thead th {\n",
       "        text-align: right;\n",
       "    }\n",
       "</style>\n",
       "<table border=\"1\" class=\"dataframe\">\n",
       "  <thead>\n",
       "    <tr style=\"text-align: right;\">\n",
       "      <th></th>\n",
       "      <th>Encoded</th>\n",
       "      <th>J-P</th>\n",
       "      <th>type</th>\n",
       "      <th>text</th>\n",
       "    </tr>\n",
       "  </thead>\n",
       "  <tbody>\n",
       "    <tr>\n",
       "      <th>0</th>\n",
       "      <td>0</td>\n",
       "      <td>J</td>\n",
       "      <td>INFJ</td>\n",
       "      <td>and intj moments    sportscenter not top ten p...</td>\n",
       "    </tr>\n",
       "    <tr>\n",
       "      <th>1</th>\n",
       "      <td>1</td>\n",
       "      <td>P</td>\n",
       "      <td>ENTP</td>\n",
       "      <td>i m finding the lack of me in these posts very...</td>\n",
       "    </tr>\n",
       "    <tr>\n",
       "      <th>2</th>\n",
       "      <td>1</td>\n",
       "      <td>P</td>\n",
       "      <td>INTP</td>\n",
       "      <td>good one           course  to which i say i kn...</td>\n",
       "    </tr>\n",
       "    <tr>\n",
       "      <th>3</th>\n",
       "      <td>0</td>\n",
       "      <td>J</td>\n",
       "      <td>INTJ</td>\n",
       "      <td>dear intp    i enjoyed our conversation the ot...</td>\n",
       "    </tr>\n",
       "    <tr>\n",
       "      <th>4</th>\n",
       "      <td>0</td>\n",
       "      <td>J</td>\n",
       "      <td>ENTJ</td>\n",
       "      <td>you re fired  that s another silly misconcepti...</td>\n",
       "    </tr>\n",
       "  </tbody>\n",
       "</table>\n",
       "</div>"
      ],
      "text/plain": [
       "   Encoded J-P  type                                               text\n",
       "0        0   J  INFJ  and intj moments    sportscenter not top ten p...\n",
       "1        1   P  ENTP  i m finding the lack of me in these posts very...\n",
       "2        1   P  INTP  good one           course  to which i say i kn...\n",
       "3        0   J  INTJ  dear intp    i enjoyed our conversation the ot...\n",
       "4        0   J  ENTJ  you re fired  that s another silly misconcepti..."
      ]
     },
     "execution_count": 7,
     "metadata": {},
     "output_type": "execute_result"
    }
   ],
   "source": [
    "J_P_df = cleaned_df.copy()\n",
    "J_P_df['J-P'] = cleaned_df[\"type\"].str.extract('[F,T](.)',1)\n",
    "J_P_df['Encoded'] = le.fit_transform(J_P_df['J-P'])\n",
    "J_P_df = J_P_df[['Encoded', 'J-P', 'type','text']]\n",
    "J_P_df.head()"
   ]
  },
  {
   "cell_type": "markdown",
   "metadata": {},
   "source": [
    "### TFIDF Vectorizer for 4 dimensions"
   ]
  },
  {
   "cell_type": "code",
   "execution_count": 8,
   "metadata": {},
   "outputs": [],
   "source": [
    "from sklearn.feature_extraction.text import TfidfVectorizer\n",
    "from sklearn.model_selection import train_test_split"
   ]
  },
  {
   "cell_type": "code",
   "execution_count": 9,
   "metadata": {},
   "outputs": [],
   "source": [
    "#Setting up Vectorizer\n",
    "vectorizer = TfidfVectorizer(\n",
    "    max_features=17000,\n",
    "    min_df=7,\n",
    "    max_df=0.8,\n",
    "    stop_words=\"english\",\n",
    "    ngram_range=(1,3),\n",
    ")"
   ]
  },
  {
   "cell_type": "code",
   "execution_count": 10,
   "metadata": {},
   "outputs": [],
   "source": [
    "# E-I\n",
    "X = E_I_df[\"text\"].values\n",
    "y = E_I_df[\"Encoded\"].values\n",
    "X_train_EI, X_test_EI, y_train_EI, y_test_EI = train_test_split(X, y, random_state=42)\n",
    "X_train_EI = vectorizer.fit_transform(X_train_EI)\n",
    "X_test_EI = vectorizer.transform(X_test_EI)"
   ]
  },
  {
   "cell_type": "code",
   "execution_count": 11,
   "metadata": {},
   "outputs": [],
   "source": [
    "# N-S\n",
    "X = N_S_df[\"text\"].values\n",
    "y = N_S_df[\"Encoded\"].values\n",
    "X_train_NS, X_test_NS, y_train_NS, y_test_NS = train_test_split(X, y, random_state=42)\n",
    "X_train_NS = vectorizer.fit_transform(X_train_NS)\n",
    "X_test_NS = vectorizer.transform(X_test_NS)"
   ]
  },
  {
   "cell_type": "code",
   "execution_count": 12,
   "metadata": {},
   "outputs": [],
   "source": [
    "# T-F\n",
    "X = T_F_df[\"text\"].values\n",
    "y = T_F_df[\"Encoded\"].values\n",
    "X_train_TF, X_test_TF, y_train_TF, y_test_TF = train_test_split(X, y, random_state=42)\n",
    "X_train_TF = vectorizer.fit_transform(X_train_TF)\n",
    "X_test_TF = vectorizer.transform(X_test_TF)"
   ]
  },
  {
   "cell_type": "code",
   "execution_count": 13,
   "metadata": {},
   "outputs": [],
   "source": [
    "# J-P\n",
    "X = J_P_df[\"text\"].values\n",
    "y = J_P_df[\"Encoded\"].values\n",
    "X_train_JP, X_test_JP, y_train_JP, y_test_JP = train_test_split(X, y, random_state=42)\n",
    "X_train_JP = vectorizer.fit_transform(X_train_JP)\n",
    "X_test_JP = vectorizer.transform(X_test_JP)"
   ]
  },
  {
   "cell_type": "markdown",
   "metadata": {},
   "source": [
    "### 4 Model for 4 dimensions"
   ]
  },
  {
   "cell_type": "code",
   "execution_count": 14,
   "metadata": {},
   "outputs": [],
   "source": [
    "from sklearn.ensemble import RandomForestClassifier\n",
    "from sklearn.datasets import make_classification"
   ]
  },
  {
   "cell_type": "code",
   "execution_count": 15,
   "metadata": {},
   "outputs": [
    {
     "data": {
      "text/html": [
       "<div>\n",
       "<style scoped>\n",
       "    .dataframe tbody tr th:only-of-type {\n",
       "        vertical-align: middle;\n",
       "    }\n",
       "\n",
       "    .dataframe tbody tr th {\n",
       "        vertical-align: top;\n",
       "    }\n",
       "\n",
       "    .dataframe thead th {\n",
       "        text-align: right;\n",
       "    }\n",
       "</style>\n",
       "<table border=\"1\" class=\"dataframe\">\n",
       "  <thead>\n",
       "    <tr style=\"text-align: right;\">\n",
       "      <th></th>\n",
       "      <th>Prediction</th>\n",
       "      <th>Actual</th>\n",
       "    </tr>\n",
       "  </thead>\n",
       "  <tbody>\n",
       "    <tr>\n",
       "      <th>0</th>\n",
       "      <td>1</td>\n",
       "      <td>1</td>\n",
       "    </tr>\n",
       "    <tr>\n",
       "      <th>1</th>\n",
       "      <td>1</td>\n",
       "      <td>1</td>\n",
       "    </tr>\n",
       "    <tr>\n",
       "      <th>2</th>\n",
       "      <td>1</td>\n",
       "      <td>1</td>\n",
       "    </tr>\n",
       "    <tr>\n",
       "      <th>3</th>\n",
       "      <td>1</td>\n",
       "      <td>0</td>\n",
       "    </tr>\n",
       "    <tr>\n",
       "      <th>4</th>\n",
       "      <td>1</td>\n",
       "      <td>0</td>\n",
       "    </tr>\n",
       "  </tbody>\n",
       "</table>\n",
       "</div>"
      ],
      "text/plain": [
       "   Prediction  Actual\n",
       "0           1       1\n",
       "1           1       1\n",
       "2           1       1\n",
       "3           1       0\n",
       "4           1       0"
      ]
     },
     "execution_count": 15,
     "metadata": {},
     "output_type": "execute_result"
    }
   ],
   "source": [
    "# E-I\n",
    "clf_EI = RandomForestClassifier(n_estimators=2000, max_depth=None, max_features='auto',random_state=0)\n",
    "clf_EI.fit(X_train_EI, y_train_EI)\n",
    "\n",
    "# Predict outcomes for E-I test data set\n",
    "predictions_EI = clf_EI.predict(X_test_EI)\n",
    "clf_EI_pred = pd.DataFrame({\"Prediction\": predictions_EI, \"Actual\": y_test_EI})\n",
    "clf_EI_pred.head()"
   ]
  },
  {
   "cell_type": "code",
   "execution_count": 16,
   "metadata": {},
   "outputs": [
    {
     "data": {
      "text/html": [
       "<div>\n",
       "<style scoped>\n",
       "    .dataframe tbody tr th:only-of-type {\n",
       "        vertical-align: middle;\n",
       "    }\n",
       "\n",
       "    .dataframe tbody tr th {\n",
       "        vertical-align: top;\n",
       "    }\n",
       "\n",
       "    .dataframe thead th {\n",
       "        text-align: right;\n",
       "    }\n",
       "</style>\n",
       "<table border=\"1\" class=\"dataframe\">\n",
       "  <thead>\n",
       "    <tr style=\"text-align: right;\">\n",
       "      <th></th>\n",
       "      <th>Prediction</th>\n",
       "      <th>Actual</th>\n",
       "    </tr>\n",
       "  </thead>\n",
       "  <tbody>\n",
       "    <tr>\n",
       "      <th>0</th>\n",
       "      <td>0</td>\n",
       "      <td>0</td>\n",
       "    </tr>\n",
       "    <tr>\n",
       "      <th>1</th>\n",
       "      <td>0</td>\n",
       "      <td>0</td>\n",
       "    </tr>\n",
       "    <tr>\n",
       "      <th>2</th>\n",
       "      <td>0</td>\n",
       "      <td>0</td>\n",
       "    </tr>\n",
       "    <tr>\n",
       "      <th>3</th>\n",
       "      <td>0</td>\n",
       "      <td>0</td>\n",
       "    </tr>\n",
       "    <tr>\n",
       "      <th>4</th>\n",
       "      <td>0</td>\n",
       "      <td>0</td>\n",
       "    </tr>\n",
       "  </tbody>\n",
       "</table>\n",
       "</div>"
      ],
      "text/plain": [
       "   Prediction  Actual\n",
       "0           0       0\n",
       "1           0       0\n",
       "2           0       0\n",
       "3           0       0\n",
       "4           0       0"
      ]
     },
     "execution_count": 16,
     "metadata": {},
     "output_type": "execute_result"
    }
   ],
   "source": [
    "# N-S\n",
    "clf_NS = RandomForestClassifier(n_estimators=2000, max_depth=None, max_features='auto',random_state=0)\n",
    "clf_NS.fit(X_train_NS, y_train_NS)\n",
    "\n",
    "# Predict outcomes for N-S test data set\n",
    "predictions_NS = clf_NS.predict(X_test_NS)\n",
    "clf_NS_pred = pd.DataFrame({\"Prediction\": predictions_NS, \"Actual\": y_test_NS})\n",
    "clf_NS_pred.head()"
   ]
  },
  {
   "cell_type": "code",
   "execution_count": 17,
   "metadata": {},
   "outputs": [
    {
     "data": {
      "text/html": [
       "<div>\n",
       "<style scoped>\n",
       "    .dataframe tbody tr th:only-of-type {\n",
       "        vertical-align: middle;\n",
       "    }\n",
       "\n",
       "    .dataframe tbody tr th {\n",
       "        vertical-align: top;\n",
       "    }\n",
       "\n",
       "    .dataframe thead th {\n",
       "        text-align: right;\n",
       "    }\n",
       "</style>\n",
       "<table border=\"1\" class=\"dataframe\">\n",
       "  <thead>\n",
       "    <tr style=\"text-align: right;\">\n",
       "      <th></th>\n",
       "      <th>Prediction</th>\n",
       "      <th>Actual</th>\n",
       "    </tr>\n",
       "  </thead>\n",
       "  <tbody>\n",
       "    <tr>\n",
       "      <th>0</th>\n",
       "      <td>1</td>\n",
       "      <td>1</td>\n",
       "    </tr>\n",
       "    <tr>\n",
       "      <th>1</th>\n",
       "      <td>0</td>\n",
       "      <td>1</td>\n",
       "    </tr>\n",
       "    <tr>\n",
       "      <th>2</th>\n",
       "      <td>1</td>\n",
       "      <td>1</td>\n",
       "    </tr>\n",
       "    <tr>\n",
       "      <th>3</th>\n",
       "      <td>0</td>\n",
       "      <td>0</td>\n",
       "    </tr>\n",
       "    <tr>\n",
       "      <th>4</th>\n",
       "      <td>1</td>\n",
       "      <td>1</td>\n",
       "    </tr>\n",
       "  </tbody>\n",
       "</table>\n",
       "</div>"
      ],
      "text/plain": [
       "   Prediction  Actual\n",
       "0           1       1\n",
       "1           0       1\n",
       "2           1       1\n",
       "3           0       0\n",
       "4           1       1"
      ]
     },
     "execution_count": 17,
     "metadata": {},
     "output_type": "execute_result"
    }
   ],
   "source": [
    "# T-F\n",
    "clf_TF = RandomForestClassifier(n_estimators=2000, max_depth=None, max_features='auto',random_state=0)\n",
    "clf_TF.fit(X_train_TF, y_train_TF)\n",
    "\n",
    "# Predict outcomes for T-F test data set\n",
    "predictions_TF = clf_TF.predict(X_test_TF)\n",
    "clf_TF_pred = pd.DataFrame({\"Prediction\": predictions_TF, \"Actual\": y_test_TF})\n",
    "clf_TF_pred.head()"
   ]
  },
  {
   "cell_type": "code",
   "execution_count": 18,
   "metadata": {
    "scrolled": true
   },
   "outputs": [
    {
     "data": {
      "text/html": [
       "<div>\n",
       "<style scoped>\n",
       "    .dataframe tbody tr th:only-of-type {\n",
       "        vertical-align: middle;\n",
       "    }\n",
       "\n",
       "    .dataframe tbody tr th {\n",
       "        vertical-align: top;\n",
       "    }\n",
       "\n",
       "    .dataframe thead th {\n",
       "        text-align: right;\n",
       "    }\n",
       "</style>\n",
       "<table border=\"1\" class=\"dataframe\">\n",
       "  <thead>\n",
       "    <tr style=\"text-align: right;\">\n",
       "      <th></th>\n",
       "      <th>Prediction</th>\n",
       "      <th>Actual</th>\n",
       "    </tr>\n",
       "  </thead>\n",
       "  <tbody>\n",
       "    <tr>\n",
       "      <th>0</th>\n",
       "      <td>1</td>\n",
       "      <td>1</td>\n",
       "    </tr>\n",
       "    <tr>\n",
       "      <th>1</th>\n",
       "      <td>0</td>\n",
       "      <td>0</td>\n",
       "    </tr>\n",
       "    <tr>\n",
       "      <th>2</th>\n",
       "      <td>1</td>\n",
       "      <td>1</td>\n",
       "    </tr>\n",
       "    <tr>\n",
       "      <th>3</th>\n",
       "      <td>1</td>\n",
       "      <td>1</td>\n",
       "    </tr>\n",
       "    <tr>\n",
       "      <th>4</th>\n",
       "      <td>0</td>\n",
       "      <td>0</td>\n",
       "    </tr>\n",
       "  </tbody>\n",
       "</table>\n",
       "</div>"
      ],
      "text/plain": [
       "   Prediction  Actual\n",
       "0           1       1\n",
       "1           0       0\n",
       "2           1       1\n",
       "3           1       1\n",
       "4           0       0"
      ]
     },
     "execution_count": 18,
     "metadata": {},
     "output_type": "execute_result"
    }
   ],
   "source": [
    "# J-P\n",
    "clf_JP = RandomForestClassifier(n_estimators=2000, max_depth=None, max_features='auto',random_state=0)\n",
    "clf_JP.fit(X_train_JP, y_train_JP)\n",
    "\n",
    "# Predict outcomes for J-P test data set\n",
    "predictions_JP = clf_JP.predict(X_test_JP)\n",
    "clf_JP_pred = pd.DataFrame({\"Prediction\": predictions_JP, \"Actual\": y_test_JP})\n",
    "clf_JP_pred.head()"
   ]
  },
  {
   "cell_type": "markdown",
   "metadata": {},
   "source": [
    "### Accuracies for 4 Models"
   ]
  },
  {
   "cell_type": "code",
   "execution_count": 19,
   "metadata": {},
   "outputs": [],
   "source": [
    "from sklearn.metrics import confusion_matrix\n",
    "from sklearn.metrics import accuracy_score\n",
    "from sklearn.metrics import classification_report"
   ]
  },
  {
   "cell_type": "code",
   "execution_count": 20,
   "metadata": {
    "scrolled": true
   },
   "outputs": [
    {
     "name": "stdout",
     "output_type": "stream",
     "text": [
      "Accuracy of model at predicting MB types were: \n",
      " EI:0.8049792531120332 \n",
      " NS:0.859843245735362 \n",
      " TF: 0.8331028123559244 \n",
      " JP: 0.7381281696634394\n"
     ]
    }
   ],
   "source": [
    "accEI = clf_EI.score(X_test_EI, y_test_EI)\n",
    "accNS = clf_NS.score(X_test_NS, y_test_NS)\n",
    "accTF = clf_TF.score(X_test_TF, y_test_TF)\n",
    "accJP = clf_JP.score(X_test_JP, y_test_JP)\n",
    "print(\"Accuracy of model at predicting MB types were: \\n EI:{accEI} \\n NS:{accNS} \\n TF: {accTF} \\n JP: {accJP}\".format(accEI=accEI, accNS=accNS, accTF=accTF, accJP=accJP ))"
   ]
  },
  {
   "cell_type": "code",
   "execution_count": 21,
   "metadata": {
    "scrolled": false
   },
   "outputs": [
    {
     "name": "stdout",
     "output_type": "stream",
     "text": [
      "E-I RForest Model\n",
      "Classification Report: \n",
      "\n",
      "              precision    recall  f1-score   support\n",
      "\n",
      "           0       0.98      0.11      0.19       473\n",
      "           1       0.80      1.00      0.89      1696\n",
      "\n",
      "    accuracy                           0.80      2169\n",
      "   macro avg       0.89      0.55      0.54      2169\n",
      "weighted avg       0.84      0.80      0.74      2169\n",
      "\n",
      "Confusion Matrix: \n",
      "\n",
      "[[  51  422]\n",
      " [   1 1695]]\n"
     ]
    }
   ],
   "source": [
    "print(\"E-I RForest Model\")\n",
    "print(\"Classification Report: \\n\")\n",
    "print(classification_report(clf_EI_pred.Actual, clf_EI_pred.Prediction))\n",
    "print(\"Confusion Matrix: \\n\")\n",
    "print(confusion_matrix(clf_EI_pred.Actual, clf_EI_pred.Prediction))"
   ]
  },
  {
   "cell_type": "code",
   "execution_count": 22,
   "metadata": {},
   "outputs": [
    {
     "name": "stdout",
     "output_type": "stream",
     "text": [
      "N-S RForest Model\n",
      "Classification Report: \n",
      "\n",
      "              precision    recall  f1-score   support\n",
      "\n",
      "           0       0.86      1.00      0.92      1862\n",
      "           1       1.00      0.01      0.02       307\n",
      "\n",
      "    accuracy                           0.86      2169\n",
      "   macro avg       0.93      0.50      0.47      2169\n",
      "weighted avg       0.88      0.86      0.80      2169\n",
      "\n",
      "Confusion Matrix: \n",
      "\n",
      "[[1862    0]\n",
      " [ 304    3]]\n"
     ]
    }
   ],
   "source": [
    "print(\"N-S RForest Model\")\n",
    "print(\"Classification Report: \\n\")\n",
    "print(classification_report(clf_NS_pred.Actual, clf_NS_pred.Prediction))\n",
    "print(\"Confusion Matrix: \\n\")\n",
    "print(confusion_matrix(clf_NS_pred.Actual, clf_NS_pred.Prediction))"
   ]
  },
  {
   "cell_type": "code",
   "execution_count": 23,
   "metadata": {
    "scrolled": true
   },
   "outputs": [
    {
     "name": "stdout",
     "output_type": "stream",
     "text": [
      "T-F RForest Model\n",
      "Classification Report: \n",
      "\n",
      "              precision    recall  f1-score   support\n",
      "\n",
      "           0       0.82      0.89      0.85      1179\n",
      "           1       0.85      0.77      0.81       990\n",
      "\n",
      "    accuracy                           0.83      2169\n",
      "   macro avg       0.84      0.83      0.83      2169\n",
      "weighted avg       0.83      0.83      0.83      2169\n",
      "\n",
      "Confusion Matrix: \n",
      "\n",
      "[[1045  134]\n",
      " [ 228  762]]\n"
     ]
    }
   ],
   "source": [
    "print(\"T-F RForest Model\")\n",
    "print(\"Classification Report: \\n\")\n",
    "print(classification_report(clf_TF_pred.Actual, clf_TF_pred.Prediction))\n",
    "print(\"Confusion Matrix: \\n\")\n",
    "print(confusion_matrix(clf_TF_pred.Actual, clf_TF_pred.Prediction))"
   ]
  },
  {
   "cell_type": "code",
   "execution_count": 24,
   "metadata": {
    "scrolled": true
   },
   "outputs": [
    {
     "name": "stdout",
     "output_type": "stream",
     "text": [
      "J-P RForest Model\n",
      "Classification Report: \n",
      "\n",
      "              precision    recall  f1-score   support\n",
      "\n",
      "           0       0.90      0.37      0.52       842\n",
      "           1       0.71      0.97      0.82      1327\n",
      "\n",
      "    accuracy                           0.74      2169\n",
      "   macro avg       0.80      0.67      0.67      2169\n",
      "weighted avg       0.78      0.74      0.70      2169\n",
      "\n",
      "Confusion Matrix: \n",
      "\n",
      "[[ 308  534]\n",
      " [  34 1293]]\n"
     ]
    }
   ],
   "source": [
    "print(\"J-P RForest Model\")\n",
    "print(\"Classification Report: \\n\")\n",
    "print(classification_report(clf_JP_pred.Actual, clf_JP_pred.Prediction))\n",
    "print(\"Confusion Matrix: \\n\")\n",
    "print(confusion_matrix(clf_JP_pred.Actual, clf_JP_pred.Prediction))"
   ]
  },
  {
   "cell_type": "code",
   "execution_count": 25,
   "metadata": {},
   "outputs": [
    {
     "data": {
      "text/html": [
       "<div>\n",
       "<style scoped>\n",
       "    .dataframe tbody tr th:only-of-type {\n",
       "        vertical-align: middle;\n",
       "    }\n",
       "\n",
       "    .dataframe tbody tr th {\n",
       "        vertical-align: top;\n",
       "    }\n",
       "\n",
       "    .dataframe thead th {\n",
       "        text-align: right;\n",
       "    }\n",
       "</style>\n",
       "<table border=\"1\" class=\"dataframe\">\n",
       "  <thead>\n",
       "    <tr style=\"text-align: right;\">\n",
       "      <th></th>\n",
       "      <th>Prediction</th>\n",
       "      <th>Actual</th>\n",
       "    </tr>\n",
       "  </thead>\n",
       "  <tbody>\n",
       "    <tr>\n",
       "      <th>0</th>\n",
       "      <td>1</td>\n",
       "      <td>1</td>\n",
       "    </tr>\n",
       "    <tr>\n",
       "      <th>1</th>\n",
       "      <td>1</td>\n",
       "      <td>1</td>\n",
       "    </tr>\n",
       "    <tr>\n",
       "      <th>2</th>\n",
       "      <td>1</td>\n",
       "      <td>1</td>\n",
       "    </tr>\n",
       "    <tr>\n",
       "      <th>3</th>\n",
       "      <td>0</td>\n",
       "      <td>0</td>\n",
       "    </tr>\n",
       "    <tr>\n",
       "      <th>4</th>\n",
       "      <td>1</td>\n",
       "      <td>0</td>\n",
       "    </tr>\n",
       "  </tbody>\n",
       "</table>\n",
       "</div>"
      ],
      "text/plain": [
       "   Prediction  Actual\n",
       "0           1       1\n",
       "1           1       1\n",
       "2           1       1\n",
       "3           0       0\n",
       "4           1       0"
      ]
     },
     "execution_count": 25,
     "metadata": {},
     "output_type": "execute_result"
    }
   ],
   "source": [
    "##Random Forest with Oversampling\n",
    "from imblearn.over_sampling import RandomOverSampler\n",
    "ros = RandomOverSampler(random_state=1)\n",
    "X_resampled_EI, y_resampled_EI = ros.fit_resample(X_train_EI, y_train_EI)\n",
    "\n",
    "clf_EI = RandomForestClassifier(n_estimators=2000, max_depth=None, max_features='auto',random_state=0)\n",
    "clf_EI.fit(X_resampled_EI, y_resampled_EI)\n",
    "\n",
    "predictions_EI = clf_EI.predict(X_test_EI)\n",
    "clf_EI_pred = pd.DataFrame({\"Prediction\": predictions_EI, \"Actual\": y_test_EI})\n",
    "clf_EI_pred.head()"
   ]
  },
  {
   "cell_type": "code",
   "execution_count": 26,
   "metadata": {},
   "outputs": [
    {
     "data": {
      "text/html": [
       "<div>\n",
       "<style scoped>\n",
       "    .dataframe tbody tr th:only-of-type {\n",
       "        vertical-align: middle;\n",
       "    }\n",
       "\n",
       "    .dataframe tbody tr th {\n",
       "        vertical-align: top;\n",
       "    }\n",
       "\n",
       "    .dataframe thead th {\n",
       "        text-align: right;\n",
       "    }\n",
       "</style>\n",
       "<table border=\"1\" class=\"dataframe\">\n",
       "  <thead>\n",
       "    <tr style=\"text-align: right;\">\n",
       "      <th></th>\n",
       "      <th>Prediction</th>\n",
       "      <th>Actual</th>\n",
       "    </tr>\n",
       "  </thead>\n",
       "  <tbody>\n",
       "    <tr>\n",
       "      <th>0</th>\n",
       "      <td>0</td>\n",
       "      <td>0</td>\n",
       "    </tr>\n",
       "    <tr>\n",
       "      <th>1</th>\n",
       "      <td>0</td>\n",
       "      <td>0</td>\n",
       "    </tr>\n",
       "    <tr>\n",
       "      <th>2</th>\n",
       "      <td>0</td>\n",
       "      <td>0</td>\n",
       "    </tr>\n",
       "    <tr>\n",
       "      <th>3</th>\n",
       "      <td>0</td>\n",
       "      <td>0</td>\n",
       "    </tr>\n",
       "    <tr>\n",
       "      <th>4</th>\n",
       "      <td>0</td>\n",
       "      <td>0</td>\n",
       "    </tr>\n",
       "  </tbody>\n",
       "</table>\n",
       "</div>"
      ],
      "text/plain": [
       "   Prediction  Actual\n",
       "0           0       0\n",
       "1           0       0\n",
       "2           0       0\n",
       "3           0       0\n",
       "4           0       0"
      ]
     },
     "execution_count": 26,
     "metadata": {},
     "output_type": "execute_result"
    }
   ],
   "source": [
    "ros = RandomOverSampler(random_state=1)\n",
    "X_resampled_NS, y_resampled_NS = ros.fit_resample(X_train_NS, y_train_NS)\n",
    "\n",
    "clf_NS = RandomForestClassifier(n_estimators=2000, max_depth=None, max_features='auto',random_state=0)\n",
    "clf_NS.fit(X_resampled_NS, y_resampled_NS)\n",
    "\n",
    "predictions_NS = clf_NS.predict(X_test_NS)\n",
    "clf_NS_pred = pd.DataFrame({\"Prediction\": predictions_NS, \"Actual\": y_test_NS})\n",
    "clf_NS_pred.head()"
   ]
  },
  {
   "cell_type": "code",
   "execution_count": 27,
   "metadata": {},
   "outputs": [
    {
     "data": {
      "text/html": [
       "<div>\n",
       "<style scoped>\n",
       "    .dataframe tbody tr th:only-of-type {\n",
       "        vertical-align: middle;\n",
       "    }\n",
       "\n",
       "    .dataframe tbody tr th {\n",
       "        vertical-align: top;\n",
       "    }\n",
       "\n",
       "    .dataframe thead th {\n",
       "        text-align: right;\n",
       "    }\n",
       "</style>\n",
       "<table border=\"1\" class=\"dataframe\">\n",
       "  <thead>\n",
       "    <tr style=\"text-align: right;\">\n",
       "      <th></th>\n",
       "      <th>Prediction</th>\n",
       "      <th>Actual</th>\n",
       "    </tr>\n",
       "  </thead>\n",
       "  <tbody>\n",
       "    <tr>\n",
       "      <th>0</th>\n",
       "      <td>1</td>\n",
       "      <td>1</td>\n",
       "    </tr>\n",
       "    <tr>\n",
       "      <th>1</th>\n",
       "      <td>0</td>\n",
       "      <td>1</td>\n",
       "    </tr>\n",
       "    <tr>\n",
       "      <th>2</th>\n",
       "      <td>1</td>\n",
       "      <td>1</td>\n",
       "    </tr>\n",
       "    <tr>\n",
       "      <th>3</th>\n",
       "      <td>0</td>\n",
       "      <td>0</td>\n",
       "    </tr>\n",
       "    <tr>\n",
       "      <th>4</th>\n",
       "      <td>1</td>\n",
       "      <td>1</td>\n",
       "    </tr>\n",
       "  </tbody>\n",
       "</table>\n",
       "</div>"
      ],
      "text/plain": [
       "   Prediction  Actual\n",
       "0           1       1\n",
       "1           0       1\n",
       "2           1       1\n",
       "3           0       0\n",
       "4           1       1"
      ]
     },
     "execution_count": 27,
     "metadata": {},
     "output_type": "execute_result"
    }
   ],
   "source": [
    "ros = RandomOverSampler(random_state=1)\n",
    "X_resampled_TF, y_resampled_TF = ros.fit_resample(X_train_TF, y_train_TF)\n",
    "\n",
    "clf_TF = RandomForestClassifier(n_estimators=2000, max_depth=None, max_features='auto',random_state=0)\n",
    "clf_TF.fit(X_resampled_TF, y_resampled_TF)\n",
    "\n",
    "predictioTF_TF = clf_TF.predict(X_test_TF)\n",
    "clf_TF_pred = pd.DataFrame({\"Prediction\": predictioTF_TF, \"Actual\": y_test_TF})\n",
    "clf_TF_pred.head()"
   ]
  },
  {
   "cell_type": "code",
   "execution_count": 28,
   "metadata": {},
   "outputs": [
    {
     "data": {
      "text/html": [
       "<div>\n",
       "<style scoped>\n",
       "    .dataframe tbody tr th:only-of-type {\n",
       "        vertical-align: middle;\n",
       "    }\n",
       "\n",
       "    .dataframe tbody tr th {\n",
       "        vertical-align: top;\n",
       "    }\n",
       "\n",
       "    .dataframe thead th {\n",
       "        text-align: right;\n",
       "    }\n",
       "</style>\n",
       "<table border=\"1\" class=\"dataframe\">\n",
       "  <thead>\n",
       "    <tr style=\"text-align: right;\">\n",
       "      <th></th>\n",
       "      <th>Prediction</th>\n",
       "      <th>Actual</th>\n",
       "    </tr>\n",
       "  </thead>\n",
       "  <tbody>\n",
       "    <tr>\n",
       "      <th>0</th>\n",
       "      <td>1</td>\n",
       "      <td>1</td>\n",
       "    </tr>\n",
       "    <tr>\n",
       "      <th>1</th>\n",
       "      <td>0</td>\n",
       "      <td>0</td>\n",
       "    </tr>\n",
       "    <tr>\n",
       "      <th>2</th>\n",
       "      <td>1</td>\n",
       "      <td>1</td>\n",
       "    </tr>\n",
       "    <tr>\n",
       "      <th>3</th>\n",
       "      <td>1</td>\n",
       "      <td>1</td>\n",
       "    </tr>\n",
       "    <tr>\n",
       "      <th>4</th>\n",
       "      <td>0</td>\n",
       "      <td>0</td>\n",
       "    </tr>\n",
       "  </tbody>\n",
       "</table>\n",
       "</div>"
      ],
      "text/plain": [
       "   Prediction  Actual\n",
       "0           1       1\n",
       "1           0       0\n",
       "2           1       1\n",
       "3           1       1\n",
       "4           0       0"
      ]
     },
     "execution_count": 28,
     "metadata": {},
     "output_type": "execute_result"
    }
   ],
   "source": [
    "ros = RandomOverSampler(random_state=1)\n",
    "X_resampled_JP, y_resampled_JP = ros.fit_resample(X_train_JP, y_train_JP)\n",
    "\n",
    "clf_JP = RandomForestClassifier(n_estimators=2000, max_depth=None, max_features='auto',random_state=0)\n",
    "clf_JP.fit(X_resampled_JP, y_resampled_JP)\n",
    "\n",
    "predictioJP_JP = clf_JP.predict(X_test_JP)\n",
    "clf_JP_pred = pd.DataFrame({\"Prediction\": predictioJP_JP, \"Actual\": y_test_JP})\n",
    "clf_JP_pred.head()"
   ]
  },
  {
   "cell_type": "code",
   "execution_count": 29,
   "metadata": {},
   "outputs": [
    {
     "name": "stdout",
     "output_type": "stream",
     "text": [
      "Accuracy of oversampled model at predicting MB types were: \n",
      " EI:0.8086675887505763 \n",
      " NS:0.8570769940064545 \n",
      " TF: 0.8395573997233748 \n",
      " JP: 0.7597971415398801\n"
     ]
    }
   ],
   "source": [
    "accEI = clf_EI.score(X_test_EI, y_test_EI)\n",
    "accNS = clf_NS.score(X_test_NS, y_test_NS)\n",
    "accTF = clf_TF.score(X_test_TF, y_test_TF)\n",
    "accJP = clf_JP.score(X_test_JP, y_test_JP)\n",
    "print(\"Accuracy of oversampled model at predicting MB types were: \\n EI:{accEI} \\n NS:{accNS} \\n TF: {accTF} \\n JP: {accJP}\".format(accEI=accEI, accNS=accNS, accTF=accTF, accJP=accJP ))"
   ]
  },
  {
   "cell_type": "code",
   "execution_count": 30,
   "metadata": {},
   "outputs": [
    {
     "name": "stdout",
     "output_type": "stream",
     "text": [
      "E-I RForest Model\n",
      "Classification Report: \n",
      "\n",
      "              precision    recall  f1-score   support\n",
      "\n",
      "           0       0.89      0.14      0.24       473\n",
      "           1       0.81      1.00      0.89      1696\n",
      "\n",
      "    accuracy                           0.81      2169\n",
      "   macro avg       0.85      0.57      0.57      2169\n",
      "weighted avg       0.82      0.81      0.75      2169\n",
      "\n",
      "Confusion Matrix: \n",
      "\n",
      "[[  66  407]\n",
      " [   8 1688]]\n"
     ]
    }
   ],
   "source": [
    "print(\"E-I RForest Model\")\n",
    "print(\"Classification Report: \\n\")\n",
    "print(classification_report(clf_EI_pred.Actual, clf_EI_pred.Prediction))\n",
    "print(\"Confusion Matrix: \\n\")\n",
    "print(confusion_matrix(clf_EI_pred.Actual, clf_EI_pred.Prediction))"
   ]
  },
  {
   "cell_type": "code",
   "execution_count": 31,
   "metadata": {},
   "outputs": [
    {
     "name": "stdout",
     "output_type": "stream",
     "text": [
      "N-S RForest Model\n",
      "Classification Report: \n",
      "\n",
      "              precision    recall  f1-score   support\n",
      "\n",
      "           0       0.86      0.99      0.92      1862\n",
      "           1       0.43      0.03      0.05       307\n",
      "\n",
      "    accuracy                           0.86      2169\n",
      "   macro avg       0.64      0.51      0.49      2169\n",
      "weighted avg       0.80      0.86      0.80      2169\n",
      "\n",
      "Confusion Matrix: \n",
      "\n",
      "[[1850   12]\n",
      " [ 298    9]]\n"
     ]
    }
   ],
   "source": [
    "print(\"N-S RForest Model\")\n",
    "print(\"Classification Report: \\n\")\n",
    "print(classification_report(clf_NS_pred.Actual, clf_NS_pred.Prediction))\n",
    "print(\"Confusion Matrix: \\n\")\n",
    "print(confusion_matrix(clf_NS_pred.Actual, clf_NS_pred.Prediction))"
   ]
  },
  {
   "cell_type": "code",
   "execution_count": 32,
   "metadata": {},
   "outputs": [
    {
     "name": "stdout",
     "output_type": "stream",
     "text": [
      "T-F RForest Model\n",
      "Classification Report: \n",
      "\n",
      "              precision    recall  f1-score   support\n",
      "\n",
      "           0       0.84      0.87      0.85      1179\n",
      "           1       0.84      0.81      0.82       990\n",
      "\n",
      "    accuracy                           0.84      2169\n",
      "   macro avg       0.84      0.84      0.84      2169\n",
      "weighted avg       0.84      0.84      0.84      2169\n",
      "\n",
      "Confusion Matrix: \n",
      "\n",
      "[[1021  158]\n",
      " [ 190  800]]\n"
     ]
    }
   ],
   "source": [
    "print(\"T-F RForest Model\")\n",
    "print(\"Classification Report: \\n\")\n",
    "print(classification_report(clf_TF_pred.Actual, clf_TF_pred.Prediction))\n",
    "print(\"Confusion Matrix: \\n\")\n",
    "print(confusion_matrix(clf_TF_pred.Actual, clf_TF_pred.Prediction))"
   ]
  },
  {
   "cell_type": "code",
   "execution_count": 33,
   "metadata": {},
   "outputs": [
    {
     "name": "stdout",
     "output_type": "stream",
     "text": [
      "J-P RForest Model\n",
      "Classification Report: \n",
      "\n",
      "              precision    recall  f1-score   support\n",
      "\n",
      "           0       0.84      0.47      0.60       842\n",
      "           1       0.74      0.94      0.83      1327\n",
      "\n",
      "    accuracy                           0.76      2169\n",
      "   macro avg       0.79      0.71      0.72      2169\n",
      "weighted avg       0.78      0.76      0.74      2169\n",
      "\n",
      "Confusion Matrix: \n",
      "\n",
      "[[ 395  447]\n",
      " [  74 1253]]\n"
     ]
    }
   ],
   "source": [
    "print(\"J-P RForest Model\")\n",
    "print(\"Classification Report: \\n\")\n",
    "print(classification_report(clf_JP_pred.Actual, clf_JP_pred.Prediction))\n",
    "print(\"Confusion Matrix: \\n\")\n",
    "print(confusion_matrix(clf_JP_pred.Actual, clf_JP_pred.Prediction))"
   ]
  },
  {
   "cell_type": "code",
   "execution_count": null,
   "metadata": {},
   "outputs": [],
   "source": []
  }
 ],
 "metadata": {
  "kernelspec": {
   "display_name": "PythonData",
   "language": "python",
   "name": "pythondata"
  },
  "language_info": {
   "codemirror_mode": {
    "name": "ipython",
    "version": 3
   },
   "file_extension": ".py",
   "mimetype": "text/x-python",
   "name": "python",
   "nbconvert_exporter": "python",
   "pygments_lexer": "ipython3",
   "version": "3.7.6"
  }
 },
 "nbformat": 4,
 "nbformat_minor": 4
}
