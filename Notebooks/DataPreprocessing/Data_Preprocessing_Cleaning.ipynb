{
  "nbformat": 4,
  "nbformat_minor": 0,
  "metadata": {
    "colab": {
      "name": "Data Preprocessing / Cleaning.ipynb",
      "provenance": [],
      "include_colab_link": true
    },
    "kernelspec": {
      "name": "python3",
      "display_name": "Python 3"
    }
  },
  "cells": [
    {
      "cell_type": "markdown",
      "metadata": {
        "id": "view-in-github",
        "colab_type": "text"
      },
      "source": [
        "<a href=\"https://colab.research.google.com/github/shaunwang1350/MyersBriggsMLProject/blob/master/Notebooks/Data_Preprocessing_Cleaning.ipynb\" target=\"_parent\"><img src=\"https://colab.research.google.com/assets/colab-badge.svg\" alt=\"Open In Colab\"/></a>"
      ]
    },
    {
      "cell_type": "markdown",
      "metadata": {
        "id": "AW-wLAlAk7-z"
      },
      "source": [
        "# Set up environment"
      ]
    },
    {
      "cell_type": "code",
      "metadata": {
        "id": "FTAI863oiVSB",
        "outputId": "5bfe26fe-3b8c-43e0-8c9c-26dc80314d48",
        "colab": {
          "base_uri": "https://localhost:8080/"
        }
      },
      "source": [
        "import os\n",
        "# Find the latest version of spark 2.0  from http://www-us.apache.org/dist/spark/ and enter as the spark version\n",
        "# For example:\n",
        "# spark_version = 'spark-2.4.7'\n",
        "spark_version = 'spark-2.4.7'\n",
        "os.environ['SPARK_VERSION']=spark_version\n",
        "\n",
        "# Install Spark and Java\n",
        "!apt-get update\n",
        "!apt-get install openjdk-8-jdk-headless -qq > /dev/null\n",
        "!wget -q http://www-us.apache.org/dist/spark/$SPARK_VERSION/$SPARK_VERSION-bin-hadoop2.7.tgz\n",
        "!tar xf $SPARK_VERSION-bin-hadoop2.7.tgz\n",
        "!pip install -q findspark\n",
        "\n",
        "# Set Environment Variables\n",
        "import os\n",
        "os.environ[\"JAVA_HOME\"] = \"/usr/lib/jvm/java-8-openjdk-amd64\"\n",
        "os.environ[\"SPARK_HOME\"] = f\"/content/{spark_version}-bin-hadoop2.7\"\n",
        "\n",
        "# Start a SparkSession\n",
        "import findspark\n",
        "findspark.init()"
      ],
      "execution_count": 1,
      "outputs": [
        {
          "output_type": "stream",
          "text": [
            "Get:1 https://cloud.r-project.org/bin/linux/ubuntu bionic-cran40/ InRelease [3,626 B]\n",
            "Ign:2 https://developer.download.nvidia.com/compute/cuda/repos/ubuntu1804/x86_64  InRelease\n",
            "Get:3 http://security.ubuntu.com/ubuntu bionic-security InRelease [88.7 kB]\n",
            "Ign:4 https://developer.download.nvidia.com/compute/machine-learning/repos/ubuntu1804/x86_64  InRelease\n",
            "Hit:5 https://developer.download.nvidia.com/compute/cuda/repos/ubuntu1804/x86_64  Release\n",
            "Hit:6 https://developer.download.nvidia.com/compute/machine-learning/repos/ubuntu1804/x86_64  Release\n",
            "Hit:7 http://archive.ubuntu.com/ubuntu bionic InRelease\n",
            "Get:8 http://ppa.launchpad.net/c2d4u.team/c2d4u4.0+/ubuntu bionic InRelease [15.9 kB]\n",
            "Get:10 http://archive.ubuntu.com/ubuntu bionic-updates InRelease [88.7 kB]\n",
            "Hit:12 http://ppa.launchpad.net/graphics-drivers/ppa/ubuntu bionic InRelease\n",
            "Get:13 http://archive.ubuntu.com/ubuntu bionic-backports InRelease [74.6 kB]\n",
            "Get:14 http://security.ubuntu.com/ubuntu bionic-security/main amd64 Packages [1,693 kB]\n",
            "Get:15 http://ppa.launchpad.net/c2d4u.team/c2d4u4.0+/ubuntu bionic/main Sources [1,675 kB]\n",
            "Get:16 http://archive.ubuntu.com/ubuntu bionic-updates/main amd64 Packages [2,111 kB]\n",
            "Get:17 http://security.ubuntu.com/ubuntu bionic-security/universe amd64 Packages [1,340 kB]\n",
            "Get:18 http://archive.ubuntu.com/ubuntu bionic-updates/universe amd64 Packages [2,104 kB]\n",
            "Get:19 http://ppa.launchpad.net/c2d4u.team/c2d4u4.0+/ubuntu bionic/main amd64 Packages [857 kB]\n",
            "Fetched 10.1 MB in 5s (1,912 kB/s)\n",
            "Reading package lists... Done\n"
          ],
          "name": "stdout"
        }
      ]
    },
    {
      "cell_type": "code",
      "metadata": {
        "id": "58KxNmp8k6gA",
        "outputId": "ef393e50-e9d1-43c6-d973-b453337cca4e",
        "colab": {
          "base_uri": "https://localhost:8080/"
        }
      },
      "source": [
        "# download postgres driver\n",
        "!wget https://jdbc.postgresql.org/download/postgresql-42.2.9.jar"
      ],
      "execution_count": 2,
      "outputs": [
        {
          "output_type": "stream",
          "text": [
            "--2020-10-07 18:21:30--  https://jdbc.postgresql.org/download/postgresql-42.2.9.jar\n",
            "Resolving jdbc.postgresql.org (jdbc.postgresql.org)... 72.32.157.228, 2001:4800:3e1:1::228\n",
            "Connecting to jdbc.postgresql.org (jdbc.postgresql.org)|72.32.157.228|:443... connected.\n",
            "HTTP request sent, awaiting response... 200 OK\n",
            "Length: 914037 (893K) [application/java-archive]\n",
            "Saving to: ‘postgresql-42.2.9.jar’\n",
            "\n",
            "postgresql-42.2.9.j 100%[===================>] 892.61K  1.03MB/s    in 0.8s    \n",
            "\n",
            "2020-10-07 18:21:32 (1.03 MB/s) - ‘postgresql-42.2.9.jar’ saved [914037/914037]\n",
            "\n"
          ],
          "name": "stdout"
        }
      ]
    },
    {
      "cell_type": "code",
      "metadata": {
        "id": "SWm12DtRk6de"
      },
      "source": [
        "from pyspark.sql import SparkSession\n",
        "spark = SparkSession.builder.appName(\"CloudETL\").config(\"spark.driver.extraClassPath\",\"/content/postgresql-42.2.9.jar\").getOrCreate()"
      ],
      "execution_count": 3,
      "outputs": []
    },
    {
      "cell_type": "markdown",
      "metadata": {
        "id": "dHx9CD4UrDUM"
      },
      "source": [
        "# Import the data from S3 buckets"
      ]
    },
    {
      "cell_type": "code",
      "metadata": {
        "id": "pv0_gsSdk6a2",
        "outputId": "72d4cd0e-7aba-4f6e-f851-2cdc844f55e7",
        "colab": {
          "base_uri": "https://localhost:8080/"
        }
      },
      "source": [
        "# Read in data from S3 Buckets\n",
        "from pyspark import SparkFiles\n",
        "import pandas as pd\n",
        "\n",
        "url =\"https://myersbriggsml.s3.us-east-2.amazonaws.com/resources/mbti_raw.csv\"\n",
        "spark.sparkContext.addFile(url)\n",
        "raw_df = spark.read.csv(SparkFiles.get(\"mbti_raw.csv\"), sep=\",\", header=True, inferSchema=True)\n",
        "\n",
        "# Show DataFrame\n",
        "raw_df.show(10)"
      ],
      "execution_count": 13,
      "outputs": [
        {
          "output_type": "stream",
          "text": [
            "+----+--------------------+\n",
            "|type|               posts|\n",
            "+----+--------------------+\n",
            "|INFJ|'http://www.youtu...|\n",
            "|ENTP|'I'm finding the ...|\n",
            "|INTP|'Good one  _____ ...|\n",
            "|INTJ|'Dear INTP,   I e...|\n",
            "|ENTJ|'You're fired.|||...|\n",
            "|INTJ|'18/37 @.@|||Scie...|\n",
            "|INFJ|'No, I can't draw...|\n",
            "|INTJ|'I tend to build ...|\n",
            "|INFJ|I'm not sure, tha...|\n",
            "|INTP|'https://www.yout...|\n",
            "+----+--------------------+\n",
            "only showing top 10 rows\n",
            "\n"
          ],
          "name": "stdout"
        }
      ]
    },
    {
      "cell_type": "markdown",
      "metadata": {
        "id": "Ij1Bw4FAvfj_"
      },
      "source": [
        "# Data Preprocessing"
      ]
    },
    {
      "cell_type": "code",
      "metadata": {
        "id": "ftfvtsOJk6X_",
        "outputId": "e69eae56-6707-4595-ba5e-033ea0f2a87e",
        "colab": {
          "base_uri": "https://localhost:8080/"
        }
      },
      "source": [
        "myersBriggs_df = raw_df\n",
        "myersBriggs_df.show(10)"
      ],
      "execution_count": 31,
      "outputs": [
        {
          "output_type": "stream",
          "text": [
            "+----+--------------------+\n",
            "|type|               posts|\n",
            "+----+--------------------+\n",
            "|INFJ|'http://www.youtu...|\n",
            "|ENTP|'I'm finding the ...|\n",
            "|INTP|'Good one  _____ ...|\n",
            "|INTJ|'Dear INTP,   I e...|\n",
            "|ENTJ|'You're fired.|||...|\n",
            "|INTJ|'18/37 @.@|||Scie...|\n",
            "|INFJ|'No, I can't draw...|\n",
            "|INTJ|'I tend to build ...|\n",
            "|INFJ|I'm not sure, tha...|\n",
            "|INTP|'https://www.yout...|\n",
            "+----+--------------------+\n",
            "only showing top 10 rows\n",
            "\n"
          ],
          "name": "stdout"
        }
      ]
    },
    {
      "cell_type": "code",
      "metadata": {
        "id": "9mNO5ihEYE-R"
      },
      "source": [
        "# Filter for URLs"
      ],
      "execution_count": null,
      "outputs": []
    },
    {
      "cell_type": "code",
      "metadata": {
        "id": "sloIBipZYEsd"
      },
      "source": [
        "# Filter for Stopwords"
      ],
      "execution_count": null,
      "outputs": []
    },
    {
      "cell_type": "markdown",
      "metadata": {
        "id": "YrKMALUoXcKS"
      },
      "source": [
        "# Additional Features"
      ]
    },
    {
      "cell_type": "code",
      "metadata": {
        "id": "6DRSI94lXhHP"
      },
      "source": [
        "# Import functions\n",
        "from pyspark.ml.feature import Tokenizer, StopWordsRemover, HashingTF, IDF, StringIndexer\n",
        "from pyspark.ml.feature import VectorAssembler\n",
        "from pyspark.ml.linalg import Vector\n",
        "from pyspark.sql.functions import length\n",
        "from pyspark.ml import Pipeline\n",
        "from pyspark.ml.classification import NaiveBayes"
      ],
      "execution_count": 35,
      "outputs": []
    },
    {
      "cell_type": "code",
      "metadata": {
        "id": "RkN-VkQfk6UP",
        "outputId": "38ab1666-f495-4927-c818-fc5b1f85d32c",
        "colab": {
          "base_uri": "https://localhost:8080/"
        }
      },
      "source": [
        "# Create a length column to be used as a future feature\n",
        "myersBriggs_df = myersBriggs_df.withColumn('length', length(myersBriggs_df['posts']))\n",
        "myersBriggs_df.show(10)"
      ],
      "execution_count": 36,
      "outputs": [
        {
          "output_type": "stream",
          "text": [
            "+----+--------------------+------+\n",
            "|type|               posts|length|\n",
            "+----+--------------------+------+\n",
            "|INFJ|'http://www.youtu...|  4652|\n",
            "|ENTP|'I'm finding the ...|  7053|\n",
            "|INTP|'Good one  _____ ...|  5265|\n",
            "|INTJ|'Dear INTP,   I e...|  6271|\n",
            "|ENTJ|'You're fired.|||...|  6111|\n",
            "|INTJ|'18/37 @.@|||Scie...|  8589|\n",
            "|INFJ|'No, I can't draw...|  7916|\n",
            "|INTJ|'I tend to build ...|  6900|\n",
            "|INFJ|I'm not sure, tha...|  5325|\n",
            "|INTP|'https://www.yout...|  7573|\n",
            "+----+--------------------+------+\n",
            "only showing top 10 rows\n",
            "\n"
          ],
          "name": "stdout"
        }
      ]
    },
    {
      "cell_type": "code",
      "metadata": {
        "id": "7Oj_R20TXz5V"
      },
      "source": [
        "# Create a stopwords column to be used as a future feature"
      ],
      "execution_count": null,
      "outputs": []
    },
    {
      "cell_type": "code",
      "metadata": {
        "id": "-u0yEgkpX8Th"
      },
      "source": [
        "# Create a punctuation column to be used as a future feature"
      ],
      "execution_count": null,
      "outputs": []
    },
    {
      "cell_type": "markdown",
      "metadata": {
        "id": "hqJDpWHgTWqT"
      },
      "source": [
        "# RDS Upload\n",
        "\n"
      ]
    },
    {
      "cell_type": "code",
      "metadata": {
        "id": "OfYcN7BBTWcG"
      },
      "source": [
        "# # Configure settings for RDS\n",
        "# mode = \"append\"\n",
        "# jdbc_url=\"jdbc:postgresql://:5432/\"\n",
        "# config = {\"user\":\"sellbyprojectdb\", \n",
        "#           \"password\": \"Sellproject!@\", \n",
        "#           \"driver\":\"org.postgresql.Driver\"}"
      ],
      "execution_count": null,
      "outputs": []
    },
    {
      "cell_type": "code",
      "metadata": {
        "id": "vwRGz52ZTVxn"
      },
      "source": [
        "# Write DataFrame to active_user table in RDS\n",
        "# review_id_table_df.write.jdbc(url=jdbc_url, table='review_id', mode=mode, properties=config)\n",
        "# products_df.write.jdbc(url=jdbc_url, table='products_df', mode=mode, properties=config)\n",
        "# customers_df.write.jdbc(url=jdbc_url, table='customers_df', mode=mode, properties=config)\n",
        "# vine_table_df.write.jdbc(url=jdbc_url, table='vine_table_df', mode=mode, properties=config)"
      ],
      "execution_count": null,
      "outputs": []
    }
  ]
}